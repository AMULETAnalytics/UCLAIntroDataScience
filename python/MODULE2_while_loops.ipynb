{
 "cells": [
  {
   "cell_type": "markdown",
   "metadata": {},
   "source": [
    "# MODULE 2 - Basic Python programming\n"
   ]
  },
  {
   "cell_type": "markdown",
   "metadata": {},
   "source": [
    "### Modulo operator\n",
    "\n",
    "A useful tool for working with numerical information is the modulo operator (%) which divides one number by another number and returns the remainder. \n"
   ]
  },
  {
   "cell_type": "code",
   "execution_count": 4,
   "metadata": {},
   "outputs": [
    {
     "name": "stdout",
     "output_type": "stream",
     "text": [
      "2\n",
      "0\n",
      "1\n",
      "\n",
      "The number 7 is odd.\n"
     ]
    }
   ],
   "source": [
    "# The modulo operator doesn't tell you how many times one number goes into another; it \n",
    "# just gives you the remainder\n",
    "\n",
    "# When one number of divisible by another number, the remainder is 0\n",
    "\n",
    "print(5 % 3)\n",
    "\n",
    "print(6 % 3)\n",
    "\n",
    "print(7 % 3)\n",
    "\n",
    "\n",
    "number = 7\n",
    "if number % 2 == 0:\n",
    "    print(f\"\\nThe number {number} is even.\")\n",
    "else:\n",
    "    print(f\"\\nThe number {number} is odd.\")\n",
    "    \n",
    "    "
   ]
  },
  {
   "cell_type": "markdown",
   "metadata": {},
   "source": [
    "### While loops\n",
    "\n",
    "The for loop takes a collection of items and executes a block of code once for each item in the collection. In contrast, the while loop runs as long as or while, a certain condition is true.\n"
   ]
  },
  {
   "cell_type": "code",
   "execution_count": 6,
   "metadata": {},
   "outputs": [
    {
     "name": "stdout",
     "output_type": "stream",
     "text": [
      "1\n",
      "2\n",
      "3\n",
      "4\n",
      "5\n"
     ]
    }
   ],
   "source": [
    "current_number = 1\n",
    "while current_number <=5:\n",
    "    print(current_number)\n",
    "    current_number += 1       # Short hand for: current_number = current_number + 1\n",
    "    "
   ]
  },
  {
   "cell_type": "markdown",
   "metadata": {},
   "source": [
    "### Using break to exit a while loop\n",
    "\n",
    "To exit a while loop immediately without running any additional code in the loop, regardless of the results of any conditional trest, use the break statement.\n"
   ]
  },
  {
   "cell_type": "code",
   "execution_count": 8,
   "metadata": {},
   "outputs": [
    {
     "name": "stdout",
     "output_type": "stream",
     "text": [
      "\n",
      "Please enter the name of a data science vendor whose site you have visited:\n",
      "(Enter 'quit' when you are finished.) data robot\n",
      "I really like Data Robot!\n",
      "\n",
      "Please enter the name of a data science vendor whose site you have visited:\n",
      "(Enter 'quit' when you are finished.) anaconda\n",
      "I really like Anaconda!\n",
      "\n",
      "Please enter the name of a data science vendor whose site you have visited:\n",
      "(Enter 'quit' when you are finished.) quit\n"
     ]
    }
   ],
   "source": [
    "prompt = \"\\nPlease enter the name of a data science vendor whose site you have visited:\"\n",
    "prompt += \"\\n(Enter 'quit' when you are finished.) \"\n",
    "\n",
    "while True:\n",
    "    vendor = input(prompt)\n",
    "    \n",
    "    if vendor == 'quit':\n",
    "        break\n",
    "    else:\n",
    "        print(f\"I really like {vendor.title()}!\")\n"
   ]
  },
  {
   "cell_type": "markdown",
   "metadata": {},
   "source": [
    "### Using continue in a while loop\n",
    "\n",
    "Rather than breaking out of a loop entirely without executing the rest of its code, you can use the continue statement to return to the beginning of the loop based on the result of a conditional test.\n"
   ]
  },
  {
   "cell_type": "code",
   "execution_count": 9,
   "metadata": {},
   "outputs": [
    {
     "name": "stdout",
     "output_type": "stream",
     "text": [
      "1\n",
      "3\n",
      "5\n",
      "7\n",
      "9\n"
     ]
    }
   ],
   "source": [
    "current_number = 0\n",
    "while current_number < 10:\n",
    "    current_number += 1\n",
    "    if current_number % 2 == 0:\n",
    "        continue\n",
    "        \n",
    "    print(current_number)\n",
    "    \n",
    "    \n",
    "    "
   ]
  },
  {
   "cell_type": "markdown",
   "metadata": {},
   "source": [
    "### Avoid infinite loops\n",
    "\n",
    "Every while loop needs a way to stop running so it won't continue to run forever."
   ]
  },
  {
   "cell_type": "code",
   "execution_count": 10,
   "metadata": {},
   "outputs": [
    {
     "name": "stdout",
     "output_type": "stream",
     "text": [
      "1\n",
      "2\n",
      "3\n",
      "4\n",
      "5\n"
     ]
    }
   ],
   "source": [
    "# This loop has a way to stop\n",
    "x = 1\n",
    "while x <= 5:\n",
    "    print(x)\n",
    "    x += 1\n",
    "    \n",
    "    "
   ]
  },
  {
   "cell_type": "code",
   "execution_count": null,
   "metadata": {},
   "outputs": [],
   "source": [
    "# This loop has no way to stop\n",
    "\n",
    "x = 1\n",
    "while x <= 5:\n",
    "    print(x)\n",
    "\n",
    "        "
   ]
  },
  {
   "cell_type": "markdown",
   "metadata": {},
   "source": [
    "### Using a while loop with lists and dictionaries\n",
    "\n"
   ]
  },
  {
   "cell_type": "code",
   "execution_count": 12,
   "metadata": {},
   "outputs": [
    {
     "name": "stdout",
     "output_type": "stream",
     "text": [
      "Verifying user: Stephen\n",
      "Verifying user: Catherine\n",
      "Verifying user: Ellen\n",
      "\n",
      "The following users have been confirmed:\n",
      "Stephen\n",
      "Catherine\n",
      "Ellen\n"
     ]
    }
   ],
   "source": [
    "# Start with users that need to be verified, and an empty list to hold confirmed users.\n",
    "unconfirmed_users = ['ellen', 'catherine', 'stephen']\n",
    "confirmed_users = []\n",
    "\n",
    "# Verify each user until there are no more unconfirmed users.\n",
    "#  Move each verified user into the list of confirmed users.\n",
    "while unconfirmed_users:\n",
    "    current_user = unconfirmed_users.pop()\n",
    "    \n",
    "    print(f\"Verifying user: {current_user.title()}\")\n",
    "    confirmed_users.append(current_user)\n",
    "    \n",
    "# Display all confirmed users.\n",
    "print(\"\\nThe following users have been confirmed:\")\n",
    "for confirmed_user in confirmed_users:\n",
    "    print(confirmed_user.title())\n"
   ]
  },
  {
   "cell_type": "markdown",
   "metadata": {},
   "source": [
    "### Removing all instances of specific values from a list"
   ]
  },
  {
   "cell_type": "code",
   "execution_count": 13,
   "metadata": {},
   "outputs": [
    {
     "name": "stdout",
     "output_type": "stream",
     "text": [
      "['dog', 'cat', 'dog', 'turtle', 'cat', 'rabbit', 'cat', 'ferret']\n",
      "['dog', 'dog', 'turtle', 'rabbit', 'ferret']\n"
     ]
    }
   ],
   "source": [
    "pets = ['dog', 'cat', 'dog', 'turtle', 'cat', 'rabbit', 'cat', 'ferret']\n",
    "print(pets)\n",
    "\n",
    "while 'cat' in pets:\n",
    "    pets.remove('cat')      # Use remove() function to remove value from list\n",
    "    \n",
    "print(pets)\n"
   ]
  }
 ],
 "metadata": {
  "kernelspec": {
   "display_name": "Python 3",
   "language": "python",
   "name": "python3"
  },
  "language_info": {
   "codemirror_mode": {
    "name": "ipython",
    "version": 3
   },
   "file_extension": ".py",
   "mimetype": "text/x-python",
   "name": "python",
   "nbconvert_exporter": "python",
   "pygments_lexer": "ipython3",
   "version": "3.7.3"
  }
 },
 "nbformat": 4,
 "nbformat_minor": 2
}
