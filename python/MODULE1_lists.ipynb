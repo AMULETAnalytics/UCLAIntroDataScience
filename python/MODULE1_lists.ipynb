{
 "cells": [
  {
   "cell_type": "markdown",
   "metadata": {},
   "source": [
    "# MODULE 1 - Basic Python programming\n",
    "\n",
    "Working with lists"
   ]
  },
  {
   "cell_type": "code",
   "execution_count": 2,
   "metadata": {},
   "outputs": [
    {
     "name": "stdout",
     "output_type": "stream",
     "text": [
      "Lebron, that was a great play!\n",
      "I can't wait to see your next play, Lebron.\n",
      "\n",
      "Steph, that was a great play!\n",
      "I can't wait to see your next play, Steph.\n",
      "\n",
      "Paul, that was a great play!\n",
      "I can't wait to see your next play, Paul.\n",
      "\n",
      "Thank you, everyone. That was a great game!\n"
     ]
    }
   ],
   "source": [
    "players = ['LeBron', 'Steph', 'Paul'] \n",
    "for player in players: \n",
    "    print(f\"{player.title()}, that was a great play!\")\n",
    "    print(f\"I can't wait to see your next play, {player.title()}.\\n\")\n",
    "    \n",
    "# Do something after a loop (not part of loop due to lack of indentation)\n",
    "print(\"Thank you, everyone. That was a great game!\")\n",
    "\n",
    "# Python uses indentation to determine how a line, or group of lines, is\n",
    "# related to the rest of the program. Work to avoid indentation errors"
   ]
  },
  {
   "cell_type": "markdown",
   "metadata": {},
   "source": [
    "### Using the range() function\n",
    "\n",
    "Example of ther \"off by one\" behavior you often see in Python (kind of dumb)"
   ]
  },
  {
   "cell_type": "code",
   "execution_count": 7,
   "metadata": {},
   "outputs": [
    {
     "name": "stdout",
     "output_type": "stream",
     "text": [
      "1\n",
      "2\n",
      "3\n",
      "4\n",
      "\n",
      "1\n",
      "2\n",
      "3\n",
      "4\n",
      "5\n",
      "\n",
      "0\n",
      "1\n",
      "2\n",
      "3\n",
      "4\n",
      "5\n"
     ]
    }
   ],
   "source": [
    "for i in range(1,5):        # Starts at 1, goes to (5-1)=4\n",
    "    print(i)\n",
    "\n",
    "print()    \n",
    "    \n",
    "# Need to extend upper range\n",
    "for i in range(1,6):        # Starts at 1, goes to (6-1)=5\n",
    "    print(i)\n",
    "    \n",
    "print()\n",
    "\n",
    "# Now only specific upper range, lower defaults to 0\n",
    "for i in range(6):        # Starts at 0, goes to 6\n",
    "    print(i)    "
   ]
  },
  {
   "cell_type": "markdown",
   "metadata": {},
   "source": [
    "### Using range() to create a list of numbers"
   ]
  },
  {
   "cell_type": "code",
   "execution_count": 8,
   "metadata": {},
   "outputs": [
    {
     "name": "stdout",
     "output_type": "stream",
     "text": [
      "[1, 2, 3, 4, 5]\n",
      "<class 'list'>\n"
     ]
    }
   ],
   "source": [
    "# Create a list object\n",
    "\n",
    "numbers = list(range(1, 6))      # Use list() constructor, populated by range()\n",
    "print(numbers)\n",
    "print(type(numbers))"
   ]
  },
  {
   "cell_type": "code",
   "execution_count": 9,
   "metadata": {},
   "outputs": [
    {
     "name": "stdout",
     "output_type": "stream",
     "text": [
      "[2, 4, 6, 8, 10]\n"
     ]
    }
   ],
   "source": [
    "# Use range of even numbers to populate list\n",
    "\n",
    "even_numbers = list(range(2, 11, 2)) \n",
    "print(even_numbers)\n"
   ]
  },
  {
   "cell_type": "code",
   "execution_count": 12,
   "metadata": {},
   "outputs": [
    {
     "name": "stdout",
     "output_type": "stream",
     "text": [
      "[1, 4, 9, 16, 25, 36, 49, 64, 81, 100]\n",
      "[1, 4, 9, 16, 25, 36, 49, 64, 81, 100]\n"
     ]
    }
   ],
   "source": [
    "# Create a list incrementally using append() method \n",
    "\n",
    "squares = []\n",
    "for i in range(1,11):\n",
    "    square = i**2\n",
    "    squares.append(square)\n",
    "    \n",
    "print(squares)\n",
    "\n",
    "# A different style\n",
    "squares = []\n",
    "squares = [value**2 for value in range(1, 11)]\n",
    "print(squares)\n"
   ]
  },
  {
   "cell_type": "code",
   "execution_count": 17,
   "metadata": {},
   "outputs": [
    {
     "name": "stdout",
     "output_type": "stream",
     "text": [
      "[1, 4, 9, 16, 25, 36, 49, 64, 81, 100]\n"
     ]
    }
   ],
   "source": [
    "# Now define a new list using list comprehension syntax\n",
    "squares = [i**2 for i in range(1,11)]      # Notice embedded for loop\n",
    "print(squares)"
   ]
  },
  {
   "cell_type": "markdown",
   "metadata": {},
   "source": [
    "### Performing simple EDA on a list (for more, see MODULE 7)"
   ]
  },
  {
   "cell_type": "code",
   "execution_count": 16,
   "metadata": {},
   "outputs": [
    {
     "name": "stdout",
     "output_type": "stream",
     "text": [
      "0\n",
      "9\n",
      "45\n"
     ]
    }
   ],
   "source": [
    "# Define list of integers\n",
    "digits = [1,2,3,4,5,6,7,8,9,0]\n",
    "\n",
    "# Find minimum value\n",
    "print(min(digits))\n",
    "\n",
    "# Find maximum value\n",
    "print(max(digits))\n",
    "\n",
    "# Sum all items of a list\n",
    "print(sum(digits))\n",
    "\n"
   ]
  },
  {
   "cell_type": "markdown",
   "metadata": {},
   "source": [
    "### Slicing a list"
   ]
  },
  {
   "cell_type": "code",
   "execution_count": 24,
   "metadata": {},
   "outputs": [
    {
     "name": "stdout",
     "output_type": "stream",
     "text": [
      "['charles', 'martina', 'michael']\n",
      "['martina', 'michael', 'florence']\n",
      "['charles', 'martina', 'michael', 'florence']\n",
      "['michael', 'florence', 'eli']\n",
      "['michael', 'florence', 'eli']\n"
     ]
    }
   ],
   "source": [
    "players = ['charles', 'martina', 'michael', 'florence', 'eli'] \n",
    "\n",
    "# Select first 3 list items\n",
    "print(players[0:3])\n",
    "\n",
    "# Select 2nd, 3rd, and 4th items of list\n",
    "print(players[1:4])\n",
    "\n",
    "# Omitting first slice index means to start at beginning (same as [0:4])\n",
    "print(players[:4])\n",
    "\n",
    "# Select items from the 3rd item through end of list\n",
    "print(players[2:])\n",
    "\n",
    "# Negative index selects an item a certain distance from ened of list\n",
    "# Select last 3 players with:\n",
    "print(players[-3:])\n"
   ]
  },
  {
   "cell_type": "code",
   "execution_count": 25,
   "metadata": {},
   "outputs": [
    {
     "name": "stdout",
     "output_type": "stream",
     "text": [
      "Here are the first three players on my team:\n",
      "Charles\n",
      "Martina\n",
      "Michael\n"
     ]
    }
   ],
   "source": [
    "# Use a for loop to go through a subset of items in a list\n",
    "\n",
    "players = ['charles', 'martina', 'michael', 'florence', 'eli'] \n",
    "\n",
    "print(\"Here are the first three players on my team:\")\n",
    "for player in players[:3]:\n",
    "    print(player.title())\n"
   ]
  },
  {
   "cell_type": "markdown",
   "metadata": {},
   "source": [
    "### Copying a list"
   ]
  },
  {
   "cell_type": "code",
   "execution_count": 32,
   "metadata": {},
   "outputs": [
    {
     "name": "stdout",
     "output_type": "stream",
     "text": [
      "['MOON', 'mars', 'mercury']\n",
      "['MOON', 'mars', 'mercury']\n",
      "['MOON', 'mars', 'mercury']\n",
      "['earth', 'mars', 'mercury']\n",
      "['earth', 'mars', 'mercury', 'venus']\n",
      "['earth', 'mars', 'mercury', 'jupiter']\n"
     ]
    }
   ],
   "source": [
    "my_planets = [\"earth\", \"mars\", \"mercury\"] \n",
    "\n",
    "# Create new reference to same variable, both variables point to same list\n",
    "friend_planets = my_planets\n",
    "\n",
    "# Affects 0 element for both variabls\n",
    "my_planets[0] = \"MOON\"\n",
    "\n",
    "print(my_planets)\n",
    "print(friend_planets)\n",
    "\n",
    "# -----------------------------\n",
    "\n",
    "my_planets = [\"earth\", \"mars\", \"mercury\"] \n",
    "\n",
    "# Create COPY of list\n",
    "friend_planets = my_planets[:]\n",
    "\n",
    "my_planets[0] = \"MOON\"\n",
    "\n",
    "print(my_planets)\n",
    "print(friend_planets)\n",
    "\n",
    "# ------------------------------\n",
    "\n",
    "my_planets = [\"earth\", \"mars\", \"mercury\"] \n",
    "\n",
    "# Create COPY of list\n",
    "friend_planets = my_planets[:]\n",
    "\n",
    "my_planets.append(\"venus\")\n",
    "friend_planets.append(\"jupiter\")\n",
    "\n",
    "print(my_planets)\n",
    "print(friend_planets)\n"
   ]
  },
  {
   "cell_type": "markdown",
   "metadata": {},
   "source": [
    "### Working with immutable lists: tuples\n",
    "\n",
    "Compared with lists, tuples are simple data structures. Use tuples when you\n",
    "want to store a set of values that should not be changed through-out the \n",
    "life of the program., "
   ]
  },
  {
   "cell_type": "code",
   "execution_count": 34,
   "metadata": {},
   "outputs": [
    {
     "name": "stdout",
     "output_type": "stream",
     "text": [
      "200\n",
      "50\n"
     ]
    },
    {
     "ename": "TypeError",
     "evalue": "'tuple' object does not support item assignment",
     "output_type": "error",
     "traceback": [
      "\u001b[0;31m---------------------------------------------------------------------------\u001b[0m",
      "\u001b[0;31mTypeError\u001b[0m                                 Traceback (most recent call last)",
      "\u001b[0;32m<ipython-input-34-3a46533b2155>\u001b[0m in \u001b[0;36m<module>\u001b[0;34m\u001b[0m\n\u001b[1;32m      6\u001b[0m \u001b[0mprint\u001b[0m\u001b[0;34m(\u001b[0m\u001b[0mdims\u001b[0m\u001b[0;34m[\u001b[0m\u001b[0;36m1\u001b[0m\u001b[0;34m]\u001b[0m\u001b[0;34m)\u001b[0m\u001b[0;34m\u001b[0m\u001b[0;34m\u001b[0m\u001b[0m\n\u001b[1;32m      7\u001b[0m \u001b[0;34m\u001b[0m\u001b[0m\n\u001b[0;32m----> 8\u001b[0;31m \u001b[0mdims\u001b[0m\u001b[0;34m[\u001b[0m\u001b[0;36m0\u001b[0m\u001b[0;34m]\u001b[0m \u001b[0;34m=\u001b[0m \u001b[0;36m300\u001b[0m\u001b[0;34m\u001b[0m\u001b[0;34m\u001b[0m\u001b[0m\n\u001b[0m",
      "\u001b[0;31mTypeError\u001b[0m: 'tuple' object does not support item assignment"
     ]
    }
   ],
   "source": [
    "# Define a tuple using parentheses instead of square brackets\n",
    "\n",
    "dims = (200,50)\n",
    "\n",
    "print(dims[0])\n",
    "print(dims[1])\n",
    "\n",
    "dims[0] = 300      # Can't change an element of a tuple"
   ]
  },
  {
   "cell_type": "code",
   "execution_count": 36,
   "metadata": {},
   "outputs": [
    {
     "name": "stdout",
     "output_type": "stream",
     "text": [
      "3\n"
     ]
    }
   ],
   "source": [
    "# Define a tuple with 1 element\n",
    "\n",
    "vect = (3,)\n",
    "\n",
    "print(vect[0])"
   ]
  },
  {
   "cell_type": "code",
   "execution_count": 38,
   "metadata": {},
   "outputs": [
    {
     "name": "stdout",
     "output_type": "stream",
     "text": [
      "200\n",
      "50\n",
      "\n",
      "Modified dims\n",
      "400\n",
      "100\n"
     ]
    }
   ],
   "source": [
    "# Loop through value in a tuple\n",
    "\n",
    "dims = (200,50)\n",
    "for dim in dims:\n",
    "    print(dim)\n",
    "    \n",
    "\n",
    "# Writing over a tuple\n",
    "\n",
    "dims = (400,100)\n",
    "print(\"\\nModified dims\")\n",
    "for dim in dims:\n",
    "    print(dim)"
   ]
  },
  {
   "cell_type": "code",
   "execution_count": null,
   "metadata": {},
   "outputs": [],
   "source": []
  }
 ],
 "metadata": {
  "kernelspec": {
   "display_name": "Python 3",
   "language": "python",
   "name": "python3"
  },
  "language_info": {
   "codemirror_mode": {
    "name": "ipython",
    "version": 3
   },
   "file_extension": ".py",
   "mimetype": "text/x-python",
   "name": "python",
   "nbconvert_exporter": "python",
   "pygments_lexer": "ipython3",
   "version": "3.7.3"
  }
 },
 "nbformat": 4,
 "nbformat_minor": 2
}
