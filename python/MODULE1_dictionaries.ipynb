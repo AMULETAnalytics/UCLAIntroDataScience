{
 "cells": [
  {
   "cell_type": "markdown",
   "metadata": {},
   "source": [
    "# MODULE 1 - Basic Python programming\n",
    "\n",
    "A dictionary in Python is a collection of key-value pairs. Each key is connected to its value, \n",
    "and you can use a key to access the value associated with that key. A key's value can be a\n",
    "number, a string, a list, or even another dictionary. \n",
    "\n",
    "A key-value pair is a set of values associated with each other. When you provide a key, Pyton\n",
    "returns the value associated with that key. "
   ]
  },
  {
   "cell_type": "markdown",
   "metadata": {},
   "source": [
    "### A simple dictionary example"
   ]
  },
  {
   "cell_type": "code",
   "execution_count": 2,
   "metadata": {},
   "outputs": [
    {
     "name": "stdout",
     "output_type": "stream",
     "text": [
      "white\n",
      "1850\n",
      "The home has 1850 square feet.\n"
     ]
    }
   ],
   "source": [
    "# Store info about a particular home\n",
    "home_attributes = {\"color\": \"white\", \"sqft\": 1850}\n",
    "\n",
    "# To get the value associated with a key, use the name of the dictionary and place the key inside square-brackets\n",
    "print(home_attributes[\"color\"])\n",
    "print(home_attributes[\"sqft\"])\n",
    "\n",
    "square_feet = home_attributes[\"sqft\"]\n",
    "print(f\"The home has {square_feet} square feet.\")\n"
   ]
  },
  {
   "cell_type": "code",
   "execution_count": 5,
   "metadata": {},
   "outputs": [
    {
     "name": "stdout",
     "output_type": "stream",
     "text": [
      "{'color': 'white', 'sqft': 1850}\n"
     ]
    }
   ],
   "source": [
    "# Can also start with an empty dictionary\n",
    "\n",
    "home_attributes = {}\n",
    "\n",
    "home_attributes[\"color\"] = \"white\"\n",
    "home_attributes[\"sqft\"] = 1850\n",
    "\n",
    "print(home_attributes)"
   ]
  },
  {
   "cell_type": "markdown",
   "metadata": {},
   "source": [
    "### Adding new key-value pairs\n",
    "\n",
    "Dictionaries are dynamic structures, and you can add new key-value pairs to a dictionary at any time. "
   ]
  },
  {
   "cell_type": "code",
   "execution_count": 4,
   "metadata": {},
   "outputs": [
    {
     "name": "stdout",
     "output_type": "stream",
     "text": [
      "{'color': 'white', 'sqft': 1850}\n",
      "{'color': 'white', 'sqft': 1850, 'bedrooms': 3, 'bathrooms': 2}\n"
     ]
    }
   ],
   "source": [
    "home_attributes = {\"color\": \"white\", \"sqft\": 1850}\n",
    "\n",
    "print(home_attributes)\n",
    "\n",
    "# Add two new key value pairs\n",
    "home_attributes[\"bedrooms\"] = 3\n",
    "home_attributes[\"bathrooms\"] = 2\n",
    "\n",
    "print(home_attributes)    # Now dictionary has 4 key-value pairs"
   ]
  },
  {
   "cell_type": "markdown",
   "metadata": {},
   "source": [
    "### Modifying values in a dictionary"
   ]
  },
  {
   "cell_type": "code",
   "execution_count": 6,
   "metadata": {},
   "outputs": [
    {
     "name": "stdout",
     "output_type": "stream",
     "text": [
      "{'color': 'white', 'sqft': 1850}\n",
      "{'color': 'brown', 'sqft': 1850}\n"
     ]
    }
   ],
   "source": [
    "home_attributes = {\"color\": \"white\", \"sqft\": 1850}\n",
    "print(home_attributes)\n",
    "\n",
    "home_attributes[\"color\"] =\"brown\"\n",
    "print(home_attributes)\n"
   ]
  },
  {
   "cell_type": "code",
   "execution_count": 14,
   "metadata": {},
   "outputs": [
    {
     "name": "stdout",
     "output_type": "stream",
     "text": [
      "{'bonus_pts': 2, 'sqft': 1850, 'bedrooms': 3, 'bathrooms': 2, 'extras': 'pool'}\n",
      "New bonus points: 4\n"
     ]
    }
   ],
   "source": [
    "# Modifying values in a dictionary with logic\n",
    "home_attributes = {\"bonus_pts\": 2, \"sqft\": 1850, \"bedrooms\": 3, \"bathrooms\": 2, \"extras\": \"pool\"}\n",
    "print(home_attributes)\n",
    "\n",
    "if home_attributes[\"extras\"] == \"balcony\":\n",
    "    add_bonus_pts = 1\n",
    "elif home_attributes[\"extras\"] == \"pool\":\n",
    "    add_bonus_pts = 2\n",
    "else:\n",
    "    add_bonus_pts = 3\n",
    "       \n",
    "home_attributes[\"bonus_pts\"] = home_attributes[\"bonus_pts\"] + add_bonus_pts\n",
    "\n",
    "print(f\"New bonus points: {home_attributes['bonus_pts']}\")\n"
   ]
  },
  {
   "cell_type": "code",
   "execution_count": 15,
   "metadata": {},
   "outputs": [
    {
     "name": "stdout",
     "output_type": "stream",
     "text": [
      "{'color': 'white', 'sqft': 1850}\n",
      "{'sqft': 1850}\n"
     ]
    }
   ],
   "source": [
    "# Removing key-value pairs in a dictionary\n",
    "\n",
    "home_attributes = {\"color\": \"white\", \"sqft\": 1850}\n",
    "print(home_attributes)\n",
    "\n",
    "del home_attributes['color']\n",
    "print(home_attributes)"
   ]
  },
  {
   "cell_type": "markdown",
   "metadata": {},
   "source": [
    "### Looping through dictionaries"
   ]
  },
  {
   "cell_type": "code",
   "execution_count": 16,
   "metadata": {},
   "outputs": [
    {
     "name": "stdout",
     "output_type": "stream",
     "text": [
      "Ellen\n",
      "Stephen\n",
      "\tStephen, I see you love R!\n",
      "Catherine\n",
      "Ashleigh\n",
      "\tAshleigh, I see you love Python!\n"
     ]
    }
   ],
   "source": [
    "favorite_languages = {\n",
    "    'ellen': 'Python',\n",
    "    'stephen': 'R',\n",
    "    'catherine': 'Julia',\n",
    "    'ashleigh': 'Python',\n",
    "    }\n",
    "\n",
    "friends = ['ashleigh', 'stephen']\n",
    "for name in favorite_languages.keys():\n",
    "    print(name.title())\n",
    "    \n",
    "    if name in friends:\n",
    "        language = favorite_languages[name].title()\n",
    "        print(f\"\\t{name.title()}, I see you love {language}!\")\n"
   ]
  },
  {
   "cell_type": "code",
   "execution_count": 18,
   "metadata": {},
   "outputs": [
    {
     "name": "stdout",
     "output_type": "stream",
     "text": [
      "No bedrooms value assigned.\n",
      "None\n"
     ]
    }
   ],
   "source": [
    "# Using the get() method for dictionaries\n",
    "\n",
    "home_attributes = {\"color\": \"white\", \"sqft\": 1850}\n",
    "\n",
    "# print(home_attributed['bedrooms'])     # Throws an error\n",
    "\n",
    "# Instead, use get() method to avoid error\n",
    "bedrooms = home_attributes.get('bedrooms', 'No bedrooms value assigned.')\n",
    "print(bedrooms)\n",
    "\n",
    "bedrooms = home_attributes.get('bedrooms')   # Without 2nd arg, get \"None\"\n",
    "print(bedrooms)"
   ]
  },
  {
   "cell_type": "markdown",
   "metadata": {},
   "source": [
    "### Looping through all key-value pairs\n",
    "\n",
    "Dictionaries can contain large amounts of data, so sometimes you may need to loop through the dictionary. You can loop through all of a dictionary's key-value pairs, through its keys, or through its values. "
   ]
  },
  {
   "cell_type": "code",
   "execution_count": 19,
   "metadata": {},
   "outputs": [
    {
     "name": "stdout",
     "output_type": "stream",
     "text": [
      "\n",
      "Key: jobdesc\n",
      "Value: data scientist\n",
      "\n",
      "Key: first\n",
      "Value: Hilary\n",
      "\n",
      "Key: last\n",
      "Value: Mason\n"
     ]
    }
   ],
   "source": [
    "# Loop through all key-value pairs in dictionary\n",
    "\n",
    "data_professional = {\n",
    "    'jobdesc': 'data scientist',\n",
    "    'first': 'Hilary',\n",
    "    'last': 'Mason',\n",
    "    }\n",
    "\n",
    "# Loop assigns each pair to the two variables\n",
    "for key, value in data_professional.items():\n",
    "    print(f\"\\nKey: {key}\")\n",
    "    print(f\"Value: {value}\")\n"
   ]
  },
  {
   "cell_type": "code",
   "execution_count": 21,
   "metadata": {},
   "outputs": [
    {
     "name": "stdout",
     "output_type": "stream",
     "text": [
      "Ellen's favorite language is Python.\n",
      "Stephen's favorite language is R.\n",
      "Catherine's favorite language is Julia.\n",
      "Ashleigh's favorite language is Python.\n"
     ]
    }
   ],
   "source": [
    "# Now loop through favorite_languages dictionary\n",
    "\n",
    "favorite_languages = {\n",
    "    'ellen': 'Python',\n",
    "    'stephen': 'R',\n",
    "    'catherine': 'Julia',\n",
    "    'ashleigh': 'Python',\n",
    "    }\n",
    "\n",
    "for name, language in favorite_languages.items():\n",
    "    print(f\"{name.title()}'s favorite language is {language.title()}.\")"
   ]
  },
  {
   "cell_type": "code",
   "execution_count": 24,
   "metadata": {},
   "outputs": [
    {
     "name": "stdout",
     "output_type": "stream",
     "text": [
      "Ellen\n",
      "Stephen\n",
      "Catherine\n",
      "Ashleigh\n"
     ]
    }
   ],
   "source": [
    "# Looping through all the keys in a dictionary\n",
    "\n",
    "favorite_languages = {\n",
    "    'ellen': 'Python',\n",
    "    'stephen': 'R',\n",
    "    'catherine': 'Julia',\n",
    "    'ashleigh': 'Python',\n",
    "    }\n",
    "\n",
    "# Print names of everyone who took the favorite language poll\n",
    "for name in favorite_languages.keys():      # Note: you can leave off keys() method\n",
    "    print(name.title())\n",
    "    "
   ]
  },
  {
   "cell_type": "code",
   "execution_count": 27,
   "metadata": {},
   "outputs": [
    {
     "name": "stdout",
     "output_type": "stream",
     "text": [
      "Hi Ellen.\n",
      "\tEllen, I see you love Python!\n",
      "Hi Stephen.\n",
      "Hi Catherine.\n",
      "Hi Ashleigh.\n",
      "\tAshleigh, I see you love Python!\n"
     ]
    }
   ],
   "source": [
    "# You can access the value associated with any key you care about inside the loop by using the current key.\n",
    "\n",
    "favorite_languages = {\n",
    "    'ellen': 'Python',\n",
    "    'stephen': 'R',\n",
    "    'catherine': 'Julia',\n",
    "    'ashleigh': 'Python',\n",
    "    }\n",
    "\n",
    "friends = ['ellen', 'ashleigh']\n",
    "for name in favorite_languages.keys():\n",
    "    print(f\"Hi {name.title()}.\")\n",
    "    \n",
    "    if name in friends:\n",
    "        language = favorite_languages[name].title()\n",
    "        print(f\"\\t{name.title()}, I see you love {language}!\")\n",
    "        "
   ]
  },
  {
   "cell_type": "code",
   "execution_count": 28,
   "metadata": {},
   "outputs": [
    {
     "name": "stdout",
     "output_type": "stream",
     "text": [
      "Karin, please take the data science language poll!\n"
     ]
    }
   ],
   "source": [
    "# Use keys() method to query dictionary\n",
    "\n",
    "favorite_languages = {\n",
    "    'ellen': 'Python',\n",
    "    'stephen': 'R',\n",
    "    'catherine': 'Julia',\n",
    "    'ashleigh': 'Python',\n",
    "    }\n",
    "\n",
    "# Check if 'Karin' is in the list\n",
    "if 'Karin' not in favorite_languages.keys():\n",
    "    print(\"Karin, please take the data science language poll!\")"
   ]
  },
  {
   "cell_type": "code",
   "execution_count": 31,
   "metadata": {},
   "outputs": [
    {
     "name": "stdout",
     "output_type": "stream",
     "text": [
      "Ashleigh, thank you for taking the data science language poll!\n",
      "Catherine, thank you for taking the data science language poll!\n",
      "Ellen, thank you for taking the data science language poll!\n",
      "Stephen, thank you for taking the data science language poll!\n",
      "The following data science languages have been mentioned\n",
      "Python\n",
      "R\n",
      "Julia\n",
      "Python\n",
      "Julia\n",
      "R\n",
      "Python\n"
     ]
    }
   ],
   "source": [
    "# Looping through a dictionary's keys in particular order\n",
    "\n",
    "favorite_languages = {\n",
    "    'ellen': 'Python',\n",
    "    'stephen': 'R',\n",
    "    'catherine': 'Julia',\n",
    "    'ashleigh': 'Python',\n",
    "    }\n",
    "\n",
    "# Sort the keys before looping through them\n",
    "for name in sorted(favorite_languages.keys()):\n",
    "    print(f\"{name.title()}, thank you for taking the data science language poll!\")\n",
    "    \n",
    "# Now loop through the dictionary values\n",
    "print(\"The following data science languages have been mentioned\")\n",
    "for language in favorite_languages.values():\n",
    "    print(language.title())\n",
    "    \n",
    "# Now loop through the dictionary values (languages) without repeats\n",
    "# When you wrap set() around a list the contains duplicate items, Python identifies the unique items in the list\n",
    "# and builds a set from those items.\n",
    "for language in set(favorite_languages.values()):\n",
    "    print(language.title())"
   ]
  },
  {
   "cell_type": "markdown",
   "metadata": {},
   "source": [
    "### Creating a set directly"
   ]
  },
  {
   "cell_type": "code",
   "execution_count": 32,
   "metadata": {},
   "outputs": [
    {
     "data": {
      "text/plain": [
       "{'Julia', 'Python', 'R'}"
      ]
     },
     "execution_count": 32,
     "metadata": {},
     "output_type": "execute_result"
    }
   ],
   "source": [
    "# A set is distinct from a dictionary even though you define both with curly brackets. \n",
    "# Sets do not have key-value pairs\n",
    "\n",
    "languages = {\n",
    "    'Python',\n",
    "    'R',\n",
    "    'Julia',\n",
    "    'Python',\n",
    "    }\n",
    "\n",
    "languages\n"
   ]
  },
  {
   "cell_type": "markdown",
   "metadata": {},
   "source": [
    "### Nesting\n",
    "\n",
    "Sometimes you may wish to store multiple dictionaries in a list, or a list of items as a value in a dictionary. This is called nesting. \n",
    "\n",
    "You can nest dictionaries inside a list, a list of items inside a dictionary, or even a dictionary inside another dictionary. \n",
    "\n",
    "It's common to store a number of dictionaries in a list when each dictionary contains many kinds of information about one object. All of the dictionaries in the list should have an identical structure so you can loop through ther list and work with each dictionary object in the same way. "
   ]
  },
  {
   "cell_type": "code",
   "execution_count": 36,
   "metadata": {},
   "outputs": [
    {
     "name": "stdout",
     "output_type": "stream",
     "text": [
      "{'sqft': 1750, 'bedrooms': 3, 'pool': False}\n",
      "{'sqft': 1750, 'bedrooms': 3, 'pool': False}\n",
      "{'sqft': 1750, 'bedrooms': 3, 'pool': False}\n",
      "{'sqft': 1750, 'bedrooms': 3, 'pool': False}\n",
      "{'sqft': 1750, 'bedrooms': 3, 'pool': False}\n",
      "Total number of homes: 50\n",
      "{'sqft': 1750, 'bedrooms': 5, 'pool': True}\n",
      "{'sqft': 1750, 'bedrooms': 5, 'pool': True}\n",
      "{'sqft': 1750, 'bedrooms': 5, 'pool': True}\n",
      "{'sqft': 1750, 'bedrooms': 3, 'pool': False}\n",
      "{'sqft': 1750, 'bedrooms': 3, 'pool': False}\n",
      "{'sqft': 1750, 'bedrooms': 3, 'pool': False}\n",
      "{'sqft': 1750, 'bedrooms': 3, 'pool': False}\n",
      "{'sqft': 1750, 'bedrooms': 3, 'pool': False}\n",
      "{'sqft': 1750, 'bedrooms': 3, 'pool': False}\n",
      "{'sqft': 1750, 'bedrooms': 3, 'pool': False}\n"
     ]
    }
   ],
   "source": [
    "home_attributes = []\n",
    "\n",
    "# Make room for 50 homes\n",
    "for home_number in range(50):\n",
    "    new_home = {'sqft': 1750, 'bedrooms': 3, 'pool': False}\n",
    "    home_attributes.append(new_home)\n",
    "\n",
    "# Print first 5 homes\n",
    "for home in home_attributes[:5]:\n",
    "    print(home)\n",
    "\n",
    "# Show how many homes have been created\n",
    "print(f\"Total number of homes: {len(home_attributes)}\")\n",
    "\n",
    "\n",
    "# Now how you might use the generated group of homes\n",
    " for home in home_attributes[:3]:\n",
    "    if home['pool'] == False:\n",
    "        home['pool'] = True\n",
    "        home['bedrooms'] = 5\n",
    "        \n",
    "# Display 1st 10 homes\n",
    "for home in home_attributes[:10]:\n",
    "    print(home)\n",
    "    \n"
   ]
  },
  {
   "cell_type": "markdown",
   "metadata": {},
   "source": [
    "### A list in a dictionary\n",
    "\n",
    "Rather than putting a dictionary in a list, it's sometimes useful to put a list inside a dictionary. This allows for typical 1:m (one-to-many) data relationships, e.g. 1 pizza with many toppings. "
   ]
  },
  {
   "cell_type": "code",
   "execution_count": 38,
   "metadata": {},
   "outputs": [
    {
     "name": "stdout",
     "output_type": "stream",
     "text": [
      "You ordered a thick-crust pizza with the following toppings:\n",
      "\tsausage\n",
      "\tmushrooms\n",
      "\textra cheese\n"
     ]
    }
   ],
   "source": [
    " # Store information about a pizza being ordered.\n",
    "pizza = {\n",
    "    'crust': 'thick',\n",
    "    'toppings': ['sausage', 'mushrooms', 'extra cheese'],\n",
    "    }\n",
    "\n",
    "# Summarize the order.\n",
    "print(f\"You ordered a {pizza['crust']}-crust pizza \"\n",
    "    \"with the following toppings:\")\n",
    "\n",
    "for topping in pizza['toppings']:\n",
    "    print(\"\\t\" + topping)\n"
   ]
  },
  {
   "cell_type": "code",
   "execution_count": 41,
   "metadata": {},
   "outputs": [
    {
     "name": "stdout",
     "output_type": "stream",
     "text": [
      "\n",
      "Ellen's favorite languages are:\n",
      "\tPython\n",
      "\tR\n",
      "\n",
      "Stephen's favorite languages are:\n",
      "\tR\n",
      "\tSql\n",
      "\n",
      "Catherine's favorite languages are:\n",
      "\tJulia\n",
      "\n",
      "Ashleigh's favorite languages are:\n",
      "\tPython\n",
      "\tScala\n",
      "\tJava\n"
     ]
    }
   ],
   "source": [
    "# You can next a lsit inside a dictionary any time you want more than one value \n",
    "# to be associated with a single key in a dictionary.\n",
    "\n",
    "favorite_languages = {\n",
    "    'ellen': ['Python', 'R'],\n",
    "    'stephen': ['R', 'SQL'],\n",
    "    'catherine': ['Julia'],\n",
    "    'ashleigh': ['Python', 'Scala', 'Java'] \n",
    "    }\n",
    "\n",
    "for name, languages in favorite_languages.items():\n",
    "    print(f\"\\n{name.title()}'s favorite languages are:\")\n",
    "    for language in languages:\n",
    "        print(f\"\\t{language.title()}\")\n",
    "          "
   ]
  },
  {
   "cell_type": "markdown",
   "metadata": {},
   "source": [
    "### A dictionary in a dictionary\n",
    "\n",
    "You can nest a dictionary inside another dictionary, but your code can get complicated quickly when you do.\n"
   ]
  },
  {
   "cell_type": "code",
   "execution_count": 46,
   "metadata": {},
   "outputs": [
    {
     "name": "stdout",
     "output_type": "stream",
     "text": [
      "\n",
      "Stock name: NVIDIA\n",
      "\tExchange/symbol: Nasdaq Nvda\n",
      "\tPrice: 499.3\n",
      "\n",
      "Stock name: Teradata\n",
      "\tExchange/symbol: Nyse Tdc\n",
      "\tPrice: 22.55\n"
     ]
    }
   ],
   "source": [
    "stocks = {\n",
    "    'NVIDIA': {\n",
    "        'exchange': 'NASDAQ',\n",
    "        'price': 499.30,\n",
    "        'symbol': 'NVDA',\n",
    "        },\n",
    "\n",
    "    'Teradata': {\n",
    "        'exchange': 'NYSE',\n",
    "        'price': 22.55,\n",
    "        'symbol': 'TDC',\n",
    "        },\n",
    "\n",
    "    }\n",
    "\n",
    "for stock, stock_info in stocks.items():\n",
    "    print(f\"\\nStock name: {stock}\")\n",
    "    exchange_symbol = f\"{stock_info['exchange']} {stock_info['symbol']}\"\n",
    "    price = stock_info['price']\n",
    "    print(f\"\\tExchange/symbol: {exchange_symbol.title()}\")\n",
    "    print(f\"\\tPrice: {price}\")\n"
   ]
  },
  {
   "cell_type": "code",
   "execution_count": null,
   "metadata": {},
   "outputs": [],
   "source": []
  }
 ],
 "metadata": {
  "kernelspec": {
   "display_name": "Python 3",
   "language": "python",
   "name": "python3"
  },
  "language_info": {
   "codemirror_mode": {
    "name": "ipython",
    "version": 3
   },
   "file_extension": ".py",
   "mimetype": "text/x-python",
   "name": "python",
   "nbconvert_exporter": "python",
   "pygments_lexer": "ipython3",
   "version": "3.7.3"
  }
 },
 "nbformat": 4,
 "nbformat_minor": 2
}
