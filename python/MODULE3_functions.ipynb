{
 "cells": [
  {
   "cell_type": "markdown",
   "metadata": {},
   "source": [
    "# MODULE 3 - Basic Python programming (functions)\n",
    "\n",
    "When programming in any language, you always try to identify sections of code that can be used over and over again and encapulsate the code inside of a \"function.\" This \"code reuse\" dramatically improve your coding practices.\n",
    "\n",
    "Functions are named blocks of code that are designed to a specific task. In this module you'll learn how to create and pass information to functions. \n",
    "\n",
    "In data science, you'll work to build up your toolbox of reusable functions so that you can use pre-existing functions instead of reinventing the code each time the need arises. It will be productive to store functions in separate files called \"modules\" to help organize your program files. \n"
   ]
  },
  {
   "cell_type": "code",
   "execution_count": 1,
   "metadata": {},
   "outputs": [
    {
     "name": "stdout",
     "output_type": "stream",
     "text": [
      "Hello world!\n"
     ]
    }
   ],
   "source": [
    "# Here is an example of a simple \"hello world\" function\n",
    "\n",
    "# Use the def statement to define the function body. The comment line is called a \"docstring\" which\n",
    "# describes what the function does. Docstrings are surrouned by triple-quotes. Python looks for these comments\n",
    "# when generating documentation for the functions in your program. \n",
    "\n",
    "def hello_world():\n",
    "    \"\"\"Proverbial hello world function\"\"\"\n",
    "    print(\"Hello world!\")\n",
    "    \n",
    "# Now call the function\n",
    "hello_world()\n"
   ]
  },
  {
   "cell_type": "markdown",
   "metadata": {},
   "source": [
    "### Passing data to a function\n",
    "\n",
    "A function definition can include one or more \"formal parameters\" which defines data to be passed to the function from the calling program. \"Actual parameters\" or \"arguments\" are passed to the function. "
   ]
  },
  {
   "cell_type": "code",
   "execution_count": 3,
   "metadata": {},
   "outputs": [
    {
     "name": "stdout",
     "output_type": "stream",
     "text": [
      "Ellen says, HELLO WORLD!\n"
     ]
    }
   ],
   "source": [
    "def hello_world(my_name):\n",
    "    \"\"\"Hello world program\"\"\"\n",
    "    print(f\"{my_name} says, HELLO WORLD!\")\n",
    "          \n",
    "hello_world('Ellen')          "
   ]
  },
  {
   "cell_type": "markdown",
   "metadata": {},
   "source": [
    "### Positional arguments\n",
    "\n",
    "When a function is called, Python must match each argument in the function call with a parameter in the function definition. The simplest way to do this is based on the order of gthe arguments provide4d. Values matched up this way are called \"positional parameters.\""
   ]
  },
  {
   "cell_type": "code",
   "execution_count": 9,
   "metadata": {},
   "outputs": [
    {
     "name": "stdout",
     "output_type": "stream",
     "text": [
      "\n",
      "I have a ford.\n",
      "My kind of ford is a Mustang.\n",
      "\n",
      "I have a chevrolet.\n",
      "My kind of chevrolet is a Camaro.\n",
      "\n",
      "I have a mustang.\n",
      "My kind of mustang is a Ford.\n"
     ]
    }
   ],
   "source": [
    "def describe_car(car_name, car_make):\n",
    "    \"\"\"Display information about a car.\"\"\"\n",
    "    print(f\"\\nI have a {car_make}.\")\n",
    "    print(f\"My kind of {car_make} is a {car_name.title()}.\")\n",
    "    \n",
    "describe_car(car_name='mustang', car_make='ford')\n",
    "describe_car(car_name='camaro', car_make='chevrolet')\n",
    "\n",
    "# Order of positional arguments matters!\n",
    "describe_car(car_name='ford', car_make='mustang')"
   ]
  },
  {
   "cell_type": "markdown",
   "metadata": {},
   "source": [
    "### Python does not have lazy evaluation\n",
    "\n",
    "If your function has 2 formal parameters, then you must pass 2 actual parameters"
   ]
  },
  {
   "cell_type": "code",
   "execution_count": null,
   "metadata": {},
   "outputs": [],
   "source": [
    "# Two formal parameters defined, but only a is used\n",
    "def f1(a,b):\n",
    "    print(a)\n",
    "    #return(b)\n",
    "    \n",
    "f1(1,3)\n",
    "\n",
    "# This throws an error for missing actual parameter for b\n",
    "#print(f1(1))"
   ]
  },
  {
   "cell_type": "markdown",
   "metadata": {},
   "source": [
    "### Python Call by Value of Call by Reference?\n",
    "\n",
    "In Python neither of these two concepts found in other languages are applicable, rather the values are sent to functions by means of object reference.\n",
    "\n",
    "In Python, (almost) everything is an object. What we commonly refer to as \"variables\" in Python are more properly called \"names.\" Likewise, \"assignment\" is really the binding of a name to an object. Each binding has a scope that defines its visibility, usually the \"block\" in which the name originates. \n",
    "\n",
    "In Python, values are passed to functions by \"object reference.\"\n",
    "\n",
    "If an object is immutable (not modifiable) then the modified value is not available outside the function,.\n",
    "\n",
    "If an object is mutable (modifiable) then the modified values is available outside the function. \n",
    "\n",
    "Mutable objects: list, dict, set, byte array\n",
    "Immutable objects: int, float, complex, string, tuple, frozen set, bytes\n",
    "\n"
   ]
  },
  {
   "cell_type": "code",
   "execution_count": 52,
   "metadata": {},
   "outputs": [
    {
     "name": "stdout",
     "output_type": "stream",
     "text": [
      "Inside val(): 15 4426778464\n",
      "After call to val(): 10 4426778304\n"
     ]
    }
   ],
   "source": [
    "# Below a new object is created in memory because integer objects are immumtable (not modifiable)\n",
    "\n",
    "def val(x):\n",
    "    x=15\n",
    "    print(\"Inside val():\",x,id(x))\n",
    "    \n",
    "x=10\n",
    "val(x)\n",
    "print(\"After call to val():\",x,id(x))"
   ]
  },
  {
   "cell_type": "code",
   "execution_count": 56,
   "metadata": {},
   "outputs": [
    {
     "name": "stdout",
     "output_type": "stream",
     "text": [
      "Before call to val() [1, 2, 3] 140487549844040\n",
      "Inside val(): [1, 2, 3, 4] 140487549844040\n",
      "After call to val() [1, 2, 3, 4] 140487549844040\n"
     ]
    }
   ],
   "source": [
    "# A new object is not created in memory because list objects are mutable (modifiable), so it\n",
    "# simply adds a new element to the same object\n",
    "\n",
    "# NOTE: all memory addresses returned by id() are the same\n",
    "\n",
    "def val(lst):\n",
    "    lst.append(4)\n",
    "    print(\"Inside val():\",lst,id(lst))\n",
    "    \n",
    "lst=[1,2,3]\n",
    "print(\"Before call to val()\",lst,id(lst))\n",
    "val(lst)\n",
    "print(\"After call to val()\",lst,id(lst))"
   ]
  },
  {
   "cell_type": "code",
   "execution_count": 46,
   "metadata": {},
   "outputs": [
    {
     "name": "stdout",
     "output_type": "stream",
     "text": [
      "16\n",
      "4\n"
     ]
    }
   ],
   "source": [
    "# Another example\n",
    "\n",
    "def main():\n",
    "     arg = 4\n",
    "     square(arg)\n",
    "     print(arg)\n",
    "     return\n",
    "\n",
    "def square(n):\n",
    "     n *= n\n",
    "     print(n)\n",
    "     return\n",
    "    \n",
    "main()"
   ]
  },
  {
   "cell_type": "code",
   "execution_count": 45,
   "metadata": {},
   "outputs": [
    {
     "name": "stdout",
     "output_type": "stream",
     "text": [
      "Initial address of n: 140487552201232\n",
      "Initial address of x: 140487552201232\n",
      "  Final address of x: 140487552201264\n",
      "  Final address of n: 140487552201232\n"
     ]
    }
   ],
   "source": [
    "# Note that the address of x initially matches that of n but changes after reassignment, \n",
    "# while the address of n never changes.\n",
    "\n",
    "# The fact that the initial addresses of n and x are the same when you invoke increment() \n",
    "# proves that the x argument is not being passed by value. Otherwise, n and x would have \n",
    "# distinct memory addresses.\n",
    "\n",
    "def main():\n",
    "     n = 9001\n",
    "     print(f\"Initial address of n: {id(n)}\")\n",
    "     increment(n)\n",
    "     print(f\"  Final address of n: {id(n)}\")\n",
    "     return\n",
    "\n",
    "def increment(x):\n",
    "     print(f\"Initial address of x: {id(x)}\")\n",
    "     x += 1\n",
    "     print(f\"  Final address of x: {id(x)}\")\n",
    "     return\n",
    "\n",
    "main()"
   ]
  },
  {
   "cell_type": "code",
   "execution_count": 44,
   "metadata": {},
   "outputs": [
    {
     "name": "stdout",
     "output_type": "stream",
     "text": [
      "Hi, Alice!\n",
      "Counter is 0\n",
      "Hi, Bob!\n",
      "Counter is 0\n"
     ]
    }
   ],
   "source": [
    "# The variable counter isn’t incremented in the above example because, as we’ve previously learned, \n",
    "# Python has no way of passing values by reference. \n",
    "\n",
    "def main():\n",
    "     counter = 0\n",
    "     print(greet(\"Alice\", counter))\n",
    "     print(f\"Counter is {counter}\")\n",
    "     print(greet(\"Bob\", counter))\n",
    "     print(f\"Counter is {counter}\")\n",
    "     return\n",
    "\n",
    "def greet(name, counter):\n",
    "     counter += 1\n",
    "     return f\"Hi, {name}!\"\n",
    "\n",
    "main()"
   ]
  },
  {
   "cell_type": "markdown",
   "metadata": {},
   "source": [
    "### Default values for parameters\n",
    "\n",
    "When writing a function, you can define a default value fofr each parameter. If an argument for a parameter is provided in the function call, Python uses the argument value. If not, it uses the default value for the parameter. "
   ]
  },
  {
   "cell_type": "code",
   "execution_count": 11,
   "metadata": {},
   "outputs": [
    {
     "name": "stdout",
     "output_type": "stream",
     "text": [
      "\n",
      "I have a ford.\n",
      "My kind of ford is a Mustang.\n",
      "\n",
      "I have a ford.\n",
      "My kind of ford is a Mustang.\n"
     ]
    }
   ],
   "source": [
    "def describe_car(car_name, car_make='ford'):\n",
    "    \"\"\"Display information about a car.\"\"\"\n",
    "    print(f\"\\nI have a {car_make}.\")\n",
    "    print(f\"My kind of {car_make} is a {car_name.title()}.\")\n",
    "    \n",
    "describe_car(car_name='mustang')\n",
    "\n",
    "# Simplest way to call this function. \n",
    "# Argument value is matched up with the first parameter in the definition: car_name. Because no argument is\n",
    "# provided for car_make, Python uses the default value 'ford'\n",
    "describe_car('mustang')"
   ]
  },
  {
   "cell_type": "markdown",
   "metadata": {},
   "source": [
    "### Equivalent function calls\n",
    "\n",
    "Because positional arguments, keyword arguments, and default values can all be used together, often you'll have several equivalent ways to call a function. "
   ]
  },
  {
   "cell_type": "code",
   "execution_count": 21,
   "metadata": {},
   "outputs": [
    {
     "name": "stdout",
     "output_type": "stream",
     "text": [
      "\n",
      "I have a ford.\n",
      "My kind of ford is a Mustange.\n",
      "\n",
      "I have a ford.\n",
      "My kind of ford is a Mustang.\n",
      "\n",
      "I have a chevrolet.\n",
      "My kind of chevrolet is a Camaro.\n",
      "\n",
      "I have a chevrolet.\n",
      "My kind of chevrolet is a Camaro.\n",
      "\n",
      "I have a chevrolet.\n",
      "My kind of chevrolet is a Camaro.\n"
     ]
    }
   ],
   "source": [
    "def describe_car(car_name, car_make='ford'):\n",
    "    \"\"\"Display information about a car.\"\"\"\n",
    "    print(f\"\\nI have a {car_make}.\")\n",
    "    print(f\"My kind of {car_make} is a {car_name.title()}.\")\n",
    "    \n",
    "# A ford named mustang\n",
    "describe_car('mustange')\n",
    "describe_car(car_name='mustang')\n",
    "\n",
    "# A chevrolet named camaro\n",
    "describe_car('camaro','chevrolet')\n",
    "describe_car(car_name='camaro', car_make='chevrolet')\n",
    "describe_car(car_make='chevrolet', car_name='camaro')\n",
    "\n",
    "# Throws an error\n",
    "#describe_car()\n",
    "#describe_car(car_make='chevrolet')"
   ]
  },
  {
   "cell_type": "markdown",
   "metadata": {},
   "source": [
    "### Function return values\n",
    "\n",
    "The value a function returns to the calling program is called a \"return value.\" The return statement takes a value from inside the function and sends it back to the line that called the function. "
   ]
  },
  {
   "cell_type": "code",
   "execution_count": 25,
   "metadata": {},
   "outputs": [
    {
     "name": "stdout",
     "output_type": "stream",
     "text": [
      "Richard Feynman\n",
      "Sarah Jessica Parker\n"
     ]
    }
   ],
   "source": [
    "# This function includes a return value.\n",
    "\n",
    "# This function also shows how to make an argument optional: middle_name\n",
    "\n",
    "def formatted_name(first_name, last_name, middle_name=''):\n",
    "    \"\"\"Return a full name, neatly formatted.\"\"\"\n",
    "    \n",
    "    # Python interprets non-emptry strings as True, so middle_name evaluates to True if\n",
    "    # middle_name argument is included in the function call\n",
    "    if middle_name:\n",
    "        full_name = f\"{first_name} {middle_name} {last_name}\"\n",
    "    else:\n",
    "        full_name = f\"{first_name} {last_name}\"    # No middle_name passed\n",
    "    return full_name.title()\n",
    "    \n",
    "physicist = formatted_name('richard', 'feynman')\n",
    "print(physicist)\n",
    "\n",
    "actress = formatted_name('sarah', 'parker', 'jessica')\n",
    "print(actress)"
   ]
  },
  {
   "cell_type": "markdown",
   "metadata": {},
   "source": [
    "### Returning a dictionary\n",
    "\n",
    "A function can return any kind of value you need, including more complex data structures like lists and dictionaries"
   ]
  },
  {
   "cell_type": "code",
   "execution_count": 26,
   "metadata": {},
   "outputs": [
    {
     "name": "stdout",
     "output_type": "stream",
     "text": [
      "{'first': 'bill', 'last': 'gates', 'age': 64}\n"
     ]
    }
   ],
   "source": [
    "# Include optional parameter \"age\" with function definition, and assign the parameter the special value None,\n",
    "# which is used when a variable has no specific value assigned to it. Think of None as a placeholder value. \n",
    "# In conditional tests, None evaluates to False\n",
    "\n",
    "def build_person(first_name, last_name, age=None):\n",
    "    \"\"\"Return a dictionary of information about a person.\"\"\"\n",
    "    person = {'first': first_name, 'last': last_name}\n",
    "    if age:\n",
    "        person['age'] = age\n",
    "    return person\n",
    "\n",
    "hacker = build_person('bill', 'gates', age=64)\n",
    "print(hacker)\n"
   ]
  },
  {
   "cell_type": "markdown",
   "metadata": {},
   "source": [
    "### Passing a list\n",
    "\n",
    "Often you may find it useful to pass a list to a function, whether it's a list of names, numbers, or\n",
    "more complex objects, such as dictionaries. "
   ]
  },
  {
   "cell_type": "code",
   "execution_count": 29,
   "metadata": {},
   "outputs": [
    {
     "name": "stdout",
     "output_type": "stream",
     "text": [
      "Hello, Ellen!\n",
      "Hello, Catherine!\n",
      "Hello, Stephen!\n"
     ]
    }
   ],
   "source": [
    "def greet_students(students):\n",
    "    \"\"\"Print a simple greeting to each student in the list.\"\"\"\n",
    "    for student in students:\n",
    "        msg = f\"Hello, {student.title()}!\"\n",
    "        print(msg)\n",
    "\n",
    "studentnames = ['ellen', 'catherine', 'stephen']    \n",
    "greet_students(studentnames)    # Pass a list to function\n"
   ]
  },
  {
   "cell_type": "markdown",
   "metadata": {},
   "source": [
    "### Modifying a list in a function\n",
    "\n",
    "When you pass a list to a function, the function can modify the list (because it is a mutable object). Any changes made to the list inside the function are permanent. "
   ]
  },
  {
   "cell_type": "code",
   "execution_count": 57,
   "metadata": {},
   "outputs": [
    {
     "name": "stdout",
     "output_type": "stream",
     "text": [
      "Printing model: dodecahedron\n",
      "Printing model: sphere\n",
      "Printing model: cube\n",
      "\n",
      "The following models have been printed:\n",
      "dodecahedron\n",
      "sphere\n",
      "cube\n"
     ]
    }
   ],
   "source": [
    "# This program manages 3D printing of design models that are submitted. The list named unprinted_designs\n",
    "# contains the names of models to be printed, while the list named completed_models contains names of models\n",
    "# that have been printed.\n",
    "\n",
    "def print_models(unprinted_designs, completed_models):\n",
    "    \"\"\"\n",
    "    Simulate printing each design, until none are left.\n",
    "    Move each design to c after printing.\n",
    "    \"\"\"\n",
    "    while unprinted_designs:\n",
    "        current_design = unprinted_designs.pop()\n",
    "        print(f\"Printing model: {current_design}\")\n",
    "        completed_models.append(current_design)\n",
    "        \n",
    "def show_completed_models(completed_models):\n",
    "    \"\"\"Show all the models that were printed.\"\"\"\n",
    "    print(\"\\nThe following models have been printed:\")\n",
    "    for completed_model in completed_models:\n",
    "        print(completed_model)\n",
    "        \n",
    "# Initialize both lists\n",
    "unprinted_designs = ['cube', 'sphere', 'dodecahedron']\n",
    "completed_models = []\n",
    "\n",
    "# Pass lists to functions By Reference so can be modified inside function\n",
    "print_models(unprinted_designs, completed_models)\n",
    "show_completed_models(completed_models)\n"
   ]
  },
  {
   "cell_type": "markdown",
   "metadata": {},
   "source": [
    "### Preventing a function from modifying a list parameter"
   ]
  },
  {
   "cell_type": "code",
   "execution_count": 58,
   "metadata": {},
   "outputs": [
    {
     "name": "stdout",
     "output_type": "stream",
     "text": [
      "Before call to val() [1, 2, 3] 140487552180360\n",
      "Inside val(): [1, 2, 3, 4] 140487549844040\n",
      "After call to val() [1, 2, 3] 140487552180360\n"
     ]
    }
   ],
   "source": [
    "def val(lst):\n",
    "    lst.append(4)\n",
    "    print(\"Inside val():\",lst,id(lst))\n",
    "    \n",
    "lst=[1,2,3]\n",
    "print(\"Before call to val()\",lst,id(lst))\n",
    "\n",
    "# Use slice notation [:] to make a copy of the list to send to the function. \n",
    "# So the original value of the parameter will be unaffected by the function.\n",
    "val(lst[:])\n",
    "print(\"After call to val()\",lst,id(lst))"
   ]
  },
  {
   "cell_type": "markdown",
   "metadata": {},
   "source": [
    "### Passing an arbitrary number of arguments\n",
    "\n",
    "Sometimes you don't know ahead of time how many agruments a function needs to accept. Python allows a function to collect an arbitrary number of arguments from the calling program. "
   ]
  },
  {
   "cell_type": "code",
   "execution_count": 62,
   "metadata": {},
   "outputs": [
    {
     "name": "stdout",
     "output_type": "stream",
     "text": [
      "('pepperoni',)\n",
      "('mushrooms', 'green peppers', 'extra cheese')\n"
     ]
    }
   ],
   "source": [
    "# Using the *toppings syntax, the parameter collects as many argument as the calling program provides.\n",
    "\n",
    "# The asterisk in the parameter name *toppings tells Python to make an empty tuple called toppings and\n",
    "# pack whatever values it receives into this tuple. \n",
    "def make_pizza(*toppings):\n",
    "    \"\"\"Print the list of toppings that have been requested.\"\"\"\n",
    "    print(toppings)\n",
    "    \n",
    "make_pizza('pepperoni')\n",
    "make_pizza('mushrooms', 'green peppers', 'extra cheese')"
   ]
  },
  {
   "cell_type": "code",
   "execution_count": 64,
   "metadata": {},
   "outputs": [
    {
     "name": "stdout",
     "output_type": "stream",
     "text": [
      "\n",
      "Making a pizza with the following toppings:\n",
      "- pepperoni\n",
      "\n",
      "Making a pizza with the following toppings:\n",
      "- mushrooms\n",
      "- green peppers\n",
      "- extra cheese\n"
     ]
    }
   ],
   "source": [
    "# Now replace the print() call with a loop that runs through the list of toppings and describes the\n",
    "# pizza being ordered. \n",
    "\n",
    "def make_pizza(*toppings):\n",
    "    \"\"\"Summarize the pizza we are about to make.\"\"\"\n",
    "    print(f\"\\nMaking a pizza with the following toppings:\")\n",
    "    for topping in toppings:\n",
    "        print(f\"- {topping}\")\n",
    "        \n",
    "make_pizza('pepperoni')\n",
    "make_pizza('mushrooms', 'green peppers', 'extra cheese')        "
   ]
  },
  {
   "cell_type": "markdown",
   "metadata": {},
   "source": [
    "### Mixing positional and arbitrary arguments\n",
    "\n",
    "If you want a function to accept several different kinds of arguments, the parameter that accepts an arbitrary number of arguments must be placed last in the function definition.\n",
    "\n",
    "You'll often see the generic parameter named *args, which collects arbitrary positional arguments like this."
   ]
  },
  {
   "cell_type": "code",
   "execution_count": 65,
   "metadata": {},
   "outputs": [
    {
     "name": "stdout",
     "output_type": "stream",
     "text": [
      "\n",
      "Making a 16-inch pizza with the following toppings:\n",
      "- pepperoni\n",
      "\n",
      "Making a 12-inch pizza with the following toppings:\n",
      "- mushrooms\n",
      "- green peppers\n",
      "- extra cheese\n"
     ]
    }
   ],
   "source": [
    "def make_pizza(size, *toppings):\n",
    "    \"\"\"Summarize the pizza we are about to make.\"\"\"\n",
    "    print(f\"\\nMaking a {size}-inch pizza with the following toppings:\")\n",
    "    for topping in toppings:\n",
    "        print(f\"- {topping}\")\n",
    "\n",
    "make_pizza(16, 'pepperoni')\n",
    "make_pizza(12, 'mushrooms', 'green peppers', 'extra cheese')                "
   ]
  },
  {
   "cell_type": "markdown",
   "metadata": {},
   "source": [
    "### Using arbitrary keyword arguments\n",
    "\n",
    "Sometimes you may want to accept an arbitrary number of arguments, but you won't know ahead of time what kind of information will be passwed to the function. In this case, you can write a function that accepts as many key-value pairs as the calling program provides. "
   ]
  },
  {
   "cell_type": "code",
   "execution_count": 66,
   "metadata": {},
   "outputs": [
    {
     "name": "stdout",
     "output_type": "stream",
     "text": [
      "{'location': 'institute for advanced study', 'field': 'theoretical physics', 'first_name': 'albert', 'last_name': 'einstein'}\n"
     ]
    }
   ],
   "source": [
    "# The function below always takes a first and last name, but also accepts an arbitrary number of keyword \n",
    "# arguments as well. \n",
    "\n",
    "# Using the double asterisk notation **user_info, Python creates an empty dictionary called user_info\n",
    "# and packs whatever name-value pairts if receives into this dictionary.\n",
    "\n",
    "# You'll often see the parameter **kwargs used to collect non-specific keyword arguments.\n",
    "\n",
    "def build_profile(first, last, **user_info):\n",
    "    \"\"\"Build a dictionary containing everything we know about a user.\"\"\"\n",
    "    user_info['first_name'] = first\n",
    "    user_info['last_name'] = last\n",
    "    return user_info\n",
    "\n",
    "user_profile = build_profile('albert', 'einstein',\n",
    "                             location='institute for advanced study',\n",
    "                             field='theoretical physics')\n",
    "print(user_profile)\n"
   ]
  },
  {
   "cell_type": "markdown",
   "metadata": {},
   "source": [
    "### Recursive functions (functions that call themselves)\n",
    "\n",
    "Certain problems in computer science and mathematics require the use of recursive functions, e.g. calculate factorials, or traverse folders/subfolders in a file system."
   ]
  },
  {
   "cell_type": "code",
   "execution_count": 67,
   "metadata": {},
   "outputs": [
    {
     "data": {
      "text/plain": [
       "24"
      ]
     },
     "execution_count": 67,
     "metadata": {},
     "output_type": "execute_result"
    }
   ],
   "source": [
    "# In order to calculate x! you must use recursion\n",
    "\n",
    "def factorial(x):\n",
    "    if x==1:\n",
    "        return(1)\n",
    "    else:\n",
    "        return(x*factorial(x-1))\n",
    "    \n",
    "\n",
    "factorial(4)    "
   ]
  },
  {
   "cell_type": "markdown",
   "metadata": {},
   "source": [
    "### Storing functions in modules\n",
    "\n",
    "As a data scientist, whenever you create a new reusable function, you should consider storing it in a Python module.\n",
    "\n",
    "Your growing data science toolbox is comprised of many modules containing functions aligned by functionality, i.e. data transformation functions, data visualization functions, ML algorithm performance functions, etc.\n"
   ]
  },
  {
   "cell_type": "code",
   "execution_count": null,
   "metadata": {},
   "outputs": [],
   "source": [
    "# Take the last make_pizza() function and store it in a file named pizza.py, ending with a .py extension\n",
    "\n",
    "# Now we can import the module we just created so we can use the make_pizza() function. import tells Python\n",
    "# to open the module pizza.py and copy ALL the functions from it into this program. \n",
    "\n",
    "import pizza\n",
    "\n",
    "# Must use the pizza. prefix when referring to make_pizza()\n",
    "pizza.make_pizza(16, 'pepperoni')\n",
    "pizza.make_pizza(12, 'mushrooms', 'green peppers', 'extra cheese') \n",
    "\n",
    "\n",
    "# You can also import a specific function from a module\n",
    "from pizza import make_pizza\n",
    "# Now no need to prefix module name\n",
    "make_pizza(16, 'pepperoni')\n",
    "make_pizza(12, 'mushrooms', 'green peppers', 'extra cheese') \n",
    "\n",
    "\n",
    "# You can give a function an alias\n",
    "from pizza import make_pizza as mp\n",
    "mp(16, 'pepperoni')\n",
    "mp(12, 'mushrooms', 'green peppers', 'extra cheese') \n",
    "\n",
    "\n",
    "# You can also give a module an alias\n",
    "import pizza as p\n",
    "p.make_pizza(16, 'pepperoni')\n",
    "p.make_pizza(12, 'mushrooms', 'green peppers', 'extra cheese') \n",
    "\n",
    "\n",
    "# You can slso import all functions in a module\n",
    "\n",
    "from pizza import *\n",
    "make_pizza(16, 'pepperoni')\n",
    "make_pizza(12, 'mushrooms', 'green peppers', 'extra cheese') \n",
    "\n"
   ]
  }
 ],
 "metadata": {
  "kernelspec": {
   "display_name": "Python 3",
   "language": "python",
   "name": "python3"
  },
  "language_info": {
   "codemirror_mode": {
    "name": "ipython",
    "version": 3
   },
   "file_extension": ".py",
   "mimetype": "text/x-python",
   "name": "python",
   "nbconvert_exporter": "python",
   "pygments_lexer": "ipython3",
   "version": "3.7.3"
  }
 },
 "nbformat": 4,
 "nbformat_minor": 2
}
