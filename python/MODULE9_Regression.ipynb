{
 "cells": [
  {
   "cell_type": "markdown",
   "metadata": {},
   "source": [
    "# MODULE 9 - Regression Methods\n",
    "\n",
    "This week we shall cover a number of popular regression methods used by data scientists for performing predictions using supervised machine learning techniques. Regression methods (the data scientist's workhorse) are used to predict continuous (numeric) response variables using both continuous and catgorical predictors."
   ]
  },
  {
   "cell_type": "markdown",
   "metadata": {
    "colab_type": "text",
    "id": "QVc-KJWMAD6J"
   },
   "source": [
    "# Simple Linear Regression\n",
    "\n",
    "Let's start out with a simple yet comprehensive example of performing linear regression using a single predictor."
   ]
  },
  {
   "cell_type": "code",
   "execution_count": null,
   "metadata": {
    "colab": {
     "base_uri": "https://localhost:8080/",
     "height": 647
    },
    "colab_type": "code",
    "executionInfo": {
     "elapsed": 926,
     "status": "ok",
     "timestamp": 1592241356987,
     "user": {
      "displayName": "Towards AI Co.",
      "photoUrl": "https://lh3.googleusercontent.com/a-/AOh14GhLbx5D2CftHxCgQKz-ZkqP05DaA5ltUq3OgBSm=s64",
      "userId": "17819054307358915746"
     },
     "user_tz": 240
    },
    "id": "w33IafvU41nP",
    "outputId": "ee531603-133d-4ae7-945b-50366c36fecf"
   },
   "outputs": [],
   "source": [
    "%matplotlib inline\n",
    "\n",
    "# Import required libraries for performing regression:\n",
    "import pandas as pd\n",
    "import numpy as np\n",
    "import matplotlib.pyplot as plt\n",
    "from sklearn import linear_model"
   ]
  },
  {
   "cell_type": "markdown",
   "metadata": {},
   "source": [
    "Data access using Pandas pd.read.csv"
   ]
  },
  {
   "cell_type": "code",
   "execution_count": 8,
   "metadata": {
    "colab": {
     "base_uri": "https://localhost:8080/",
     "height": 647
    },
    "colab_type": "code",
    "executionInfo": {
     "elapsed": 926,
     "status": "ok",
     "timestamp": 1592241356987,
     "user": {
      "displayName": "Towards AI Co.",
      "photoUrl": "https://lh3.googleusercontent.com/a-/AOh14GhLbx5D2CftHxCgQKz-ZkqP05DaA5ltUq3OgBSm=s64",
      "userId": "17819054307358915746"
     },
     "user_tz": 240
    },
    "id": "w33IafvU41nP",
    "outputId": "ee531603-133d-4ae7-945b-50366c36fecf"
   },
   "outputs": [
    {
     "data": {
      "text/html": [
       "<div>\n",
       "<style scoped>\n",
       "    .dataframe tbody tr th:only-of-type {\n",
       "        vertical-align: middle;\n",
       "    }\n",
       "\n",
       "    .dataframe tbody tr th {\n",
       "        vertical-align: top;\n",
       "    }\n",
       "\n",
       "    .dataframe thead th {\n",
       "        text-align: right;\n",
       "    }\n",
       "</style>\n",
       "<table border=\"1\" class=\"dataframe\">\n",
       "  <thead>\n",
       "    <tr style=\"text-align: right;\">\n",
       "      <th></th>\n",
       "      <th>MODELYEAR</th>\n",
       "      <th>MAKE</th>\n",
       "      <th>MODEL</th>\n",
       "      <th>VEHICLECLASS</th>\n",
       "      <th>ENGINESIZE</th>\n",
       "      <th>CYLINDERS</th>\n",
       "      <th>TRANSMISSION</th>\n",
       "      <th>FUELTYPE</th>\n",
       "      <th>FUELCONSUMPTION_CITY</th>\n",
       "      <th>FUELCONSUMPTION_HWY</th>\n",
       "      <th>FUELCONSUMPTION_COMB</th>\n",
       "      <th>FUELCONSUMPTION_COMB_MPG</th>\n",
       "      <th>CO2EMISSIONS</th>\n",
       "    </tr>\n",
       "  </thead>\n",
       "  <tbody>\n",
       "    <tr>\n",
       "      <th>0</th>\n",
       "      <td>2014</td>\n",
       "      <td>ACURA</td>\n",
       "      <td>ILX</td>\n",
       "      <td>COMPACT</td>\n",
       "      <td>2.0</td>\n",
       "      <td>4</td>\n",
       "      <td>AS5</td>\n",
       "      <td>Z</td>\n",
       "      <td>9.9</td>\n",
       "      <td>6.7</td>\n",
       "      <td>8.5</td>\n",
       "      <td>33</td>\n",
       "      <td>196</td>\n",
       "    </tr>\n",
       "    <tr>\n",
       "      <th>1</th>\n",
       "      <td>2014</td>\n",
       "      <td>ACURA</td>\n",
       "      <td>ILX</td>\n",
       "      <td>COMPACT</td>\n",
       "      <td>2.4</td>\n",
       "      <td>4</td>\n",
       "      <td>M6</td>\n",
       "      <td>Z</td>\n",
       "      <td>11.2</td>\n",
       "      <td>7.7</td>\n",
       "      <td>9.6</td>\n",
       "      <td>29</td>\n",
       "      <td>221</td>\n",
       "    </tr>\n",
       "    <tr>\n",
       "      <th>2</th>\n",
       "      <td>2014</td>\n",
       "      <td>ACURA</td>\n",
       "      <td>ILX HYBRID</td>\n",
       "      <td>COMPACT</td>\n",
       "      <td>1.5</td>\n",
       "      <td>4</td>\n",
       "      <td>AV7</td>\n",
       "      <td>Z</td>\n",
       "      <td>6.0</td>\n",
       "      <td>5.8</td>\n",
       "      <td>5.9</td>\n",
       "      <td>48</td>\n",
       "      <td>136</td>\n",
       "    </tr>\n",
       "    <tr>\n",
       "      <th>3</th>\n",
       "      <td>2014</td>\n",
       "      <td>ACURA</td>\n",
       "      <td>MDX 4WD</td>\n",
       "      <td>SUV - SMALL</td>\n",
       "      <td>3.5</td>\n",
       "      <td>6</td>\n",
       "      <td>AS6</td>\n",
       "      <td>Z</td>\n",
       "      <td>12.7</td>\n",
       "      <td>9.1</td>\n",
       "      <td>11.1</td>\n",
       "      <td>25</td>\n",
       "      <td>255</td>\n",
       "    </tr>\n",
       "    <tr>\n",
       "      <th>4</th>\n",
       "      <td>2014</td>\n",
       "      <td>ACURA</td>\n",
       "      <td>RDX AWD</td>\n",
       "      <td>SUV - SMALL</td>\n",
       "      <td>3.5</td>\n",
       "      <td>6</td>\n",
       "      <td>AS6</td>\n",
       "      <td>Z</td>\n",
       "      <td>12.1</td>\n",
       "      <td>8.7</td>\n",
       "      <td>10.6</td>\n",
       "      <td>27</td>\n",
       "      <td>244</td>\n",
       "    </tr>\n",
       "  </tbody>\n",
       "</table>\n",
       "</div>"
      ],
      "text/plain": [
       "   MODELYEAR   MAKE       MODEL VEHICLECLASS  ENGINESIZE  CYLINDERS  \\\n",
       "0       2014  ACURA         ILX      COMPACT         2.0          4   \n",
       "1       2014  ACURA         ILX      COMPACT         2.4          4   \n",
       "2       2014  ACURA  ILX HYBRID      COMPACT         1.5          4   \n",
       "3       2014  ACURA     MDX 4WD  SUV - SMALL         3.5          6   \n",
       "4       2014  ACURA     RDX AWD  SUV - SMALL         3.5          6   \n",
       "\n",
       "  TRANSMISSION FUELTYPE  FUELCONSUMPTION_CITY  FUELCONSUMPTION_HWY  \\\n",
       "0          AS5        Z                   9.9                  6.7   \n",
       "1           M6        Z                  11.2                  7.7   \n",
       "2          AV7        Z                   6.0                  5.8   \n",
       "3          AS6        Z                  12.7                  9.1   \n",
       "4          AS6        Z                  12.1                  8.7   \n",
       "\n",
       "   FUELCONSUMPTION_COMB  FUELCONSUMPTION_COMB_MPG  CO2EMISSIONS  \n",
       "0                   8.5                        33           196  \n",
       "1                   9.6                        29           221  \n",
       "2                   5.9                        48           136  \n",
       "3                  11.1                        25           255  \n",
       "4                  10.6                        27           244  "
      ]
     },
     "execution_count": 8,
     "metadata": {},
     "output_type": "execute_result"
    }
   ],
   "source": [
    "# Read the CSV file : data is class ... pandas.core.frame.DataFrame\n",
    "data = pd.read_csv(\"https://s3-api.us-geo.objectstorage.softlayer.net/cf-courses-data/CognitiveClass/ML0101ENv3/labs/FuelConsumptionCo2.csv\")\n",
    "data.head()"
   ]
  },
  {
   "cell_type": "markdown",
   "metadata": {},
   "source": [
    "Display list of variables in data set"
   ]
  },
  {
   "cell_type": "code",
   "execution_count": 9,
   "metadata": {},
   "outputs": [
    {
     "data": {
      "text/plain": [
       "['MODELYEAR',\n",
       " 'MAKE',\n",
       " 'MODEL',\n",
       " 'VEHICLECLASS',\n",
       " 'ENGINESIZE',\n",
       " 'CYLINDERS',\n",
       " 'TRANSMISSION',\n",
       " 'FUELTYPE',\n",
       " 'FUELCONSUMPTION_CITY',\n",
       " 'FUELCONSUMPTION_HWY',\n",
       " 'FUELCONSUMPTION_COMB',\n",
       " 'FUELCONSUMPTION_COMB_MPG',\n",
       " 'CO2EMISSIONS']"
      ]
     },
     "execution_count": 9,
     "metadata": {},
     "output_type": "execute_result"
    }
   ],
   "source": [
    "list(data)"
   ]
  },
  {
   "cell_type": "markdown",
   "metadata": {},
   "source": [
    "Let's do some EDA by using a scatterplot. Looks like a linear trend"
   ]
  },
  {
   "cell_type": "code",
   "execution_count": 33,
   "metadata": {
    "colab": {
     "base_uri": "https://localhost:8080/",
     "height": 647
    },
    "colab_type": "code",
    "executionInfo": {
     "elapsed": 926,
     "status": "ok",
     "timestamp": 1592241356987,
     "user": {
      "displayName": "Towards AI Co.",
      "photoUrl": "https://lh3.googleusercontent.com/a-/AOh14GhLbx5D2CftHxCgQKz-ZkqP05DaA5ltUq3OgBSm=s64",
      "userId": "17819054307358915746"
     },
     "user_tz": 240
    },
    "id": "w33IafvU41nP",
    "outputId": "ee531603-133d-4ae7-945b-50366c36fecf"
   },
   "outputs": [
    {
     "data": {
      "image/png": "[encoded data removed]",
      "text/plain": [
       "<Figure size 432x288 with 1 Axes>"
      ]
     },
     "metadata": {
      "needs_background": "light"
     },
     "output_type": "display_data"
    }
   ],
   "source": [
    "# Select 2 variables for simple linear regression\n",
    "data = data[[\"ENGINESIZE\",\"CO2EMISSIONS\"]]    # Throw away all other variables\n",
    "# ENGINESIZE vs CO2EMISSIONS:\n",
    "plt.scatter(data[\"ENGINESIZE\"] , data[\"CO2EMISSIONS\"] , color=\"blue\")\n",
    "plt.xlabel(\"ENGINESIZE (units)\")\n",
    "plt.ylabel(\"CO2EMISSIONS (units)\")\n",
    "plt.show()         # Draw plot"
   ]
  },
  {
   "cell_type": "markdown",
   "metadata": {},
   "source": [
    "Supervised machine learning requires us to split the data set into training and test"
   ]
  },
  {
   "cell_type": "code",
   "execution_count": 32,
   "metadata": {
    "colab": {
     "base_uri": "https://localhost:8080/",
     "height": 647
    },
    "colab_type": "code",
    "executionInfo": {
     "elapsed": 926,
     "status": "ok",
     "timestamp": 1592241356987,
     "user": {
      "displayName": "Towards AI Co.",
      "photoUrl": "https://lh3.googleusercontent.com/a-/AOh14GhLbx5D2CftHxCgQKz-ZkqP05DaA5ltUq3OgBSm=s64",
      "userId": "17819054307358915746"
     },
     "user_tz": 240
    },
    "id": "w33IafvU41nP",
    "outputId": "ee531603-133d-4ae7-945b-50366c36fecf"
   },
   "outputs": [
    {
     "name": "stdout",
     "output_type": "stream",
     "text": [
      "<class 'pandas.core.frame.DataFrame'> <class 'pandas.core.frame.DataFrame'>\n",
      "(1067, 2)\n",
      "(853, 2)\n",
      "(214, 2)\n",
      "length of training set 853\n",
      "853\n"
     ]
    }
   ],
   "source": [
    "# Create training set (80%) and test set (20%)\n",
    "# Does not look like this code samples randomly from data\n",
    "train = data[:(int((len(data)*0.8)))]   # 1-853\n",
    "test = data[(int((len(data)*0.8))):]    # 854-1067\n",
    "print(type(train), type(test))         # Slice 2 new data frames\n",
    "print(data.shape)\n",
    "print(train.shape)\n",
    "print(test.shape)\n",
    "print(\"length of training set\", len(train))\n",
    "print(int(len(data)*0.8))\n",
    "trainx = data[:853]"
   ]
  },
  {
   "cell_type": "markdown",
   "metadata": {},
   "source": [
    "Now use sklearn package's LinearRegression algorithm to model the data. Trying to predict CO2 emissions by\n",
    "engine size."
   ]
  },
  {
   "cell_type": "code",
   "execution_count": 37,
   "metadata": {
    "colab": {
     "base_uri": "https://localhost:8080/",
     "height": 647
    },
    "colab_type": "code",
    "executionInfo": {
     "elapsed": 926,
     "status": "ok",
     "timestamp": 1592241356987,
     "user": {
      "displayName": "Towards AI Co.",
      "photoUrl": "https://lh3.googleusercontent.com/a-/AOh14GhLbx5D2CftHxCgQKz-ZkqP05DaA5ltUq3OgBSm=s64",
      "userId": "17819054307358915746"
     },
     "user_tz": 240
    },
    "id": "w33IafvU41nP",
    "outputId": "ee531603-133d-4ae7-945b-50366c36fecf"
   },
   "outputs": [
    {
     "name": "stdout",
     "output_type": "stream",
     "text": [
      "R-squared: 0.7565253709288298\n",
      "coefficient :  [[38.79512384]]\n",
      "Intercept :  [127.16989951]\n"
     ]
    }
   ],
   "source": [
    "regr = linear_model.LinearRegression()\n",
    "\n",
    "# data for linear model must be in np.array?\n",
    "train_x = np.array(train[[\"ENGINESIZE\"]])    # Feature variable\n",
    "train_y = np.array(train[[\"CO2EMISSIONS\"]])  # Response variable\n",
    "\n",
    "# Perform ordinary least squares fit\n",
    "regr.fit(X=train_x,y=train_y)  \n",
    "\n",
    "# Calculated the coefficient of determination, R-squared\n",
    "print(\"R-squared:\", regr.score(X=train_x, y=train_y))\n",
    "\n",
    "# Print the coefficients:\n",
    "print (\"coefficient : \",regr.coef_) #Slope\n",
    "print (\"Intercept : \",regr.intercept_) #Intercept"
   ]
  },
  {
   "cell_type": "code",
   "execution_count": 23,
   "metadata": {},
   "outputs": [
    {
     "name": "stdout",
     "output_type": "stream",
     "text": [
      "LinearRegression(copy_X=True, fit_intercept=True, n_jobs=None,\n",
      "         normalize=False)\n",
      "<class 'sklearn.linear_model.base.LinearRegression'>\n",
      "<class 'numpy.ndarray'>\n"
     ]
    }
   ],
   "source": [
    "print(regr)\n",
    "print(type(regr))\n",
    "print(type(train_x))"
   ]
  },
  {
   "cell_type": "markdown",
   "metadata": {},
   "source": [
    "Now use the fit model to plot the regression line on the scatterplot"
   ]
  },
  {
   "cell_type": "code",
   "execution_count": 16,
   "metadata": {
    "colab": {
     "base_uri": "https://localhost:8080/",
     "height": 647
    },
    "colab_type": "code",
    "executionInfo": {
     "elapsed": 926,
     "status": "ok",
     "timestamp": 1592241356987,
     "user": {
      "displayName": "Towards AI Co.",
      "photoUrl": "https://lh3.googleusercontent.com/a-/AOh14GhLbx5D2CftHxCgQKz-ZkqP05DaA5ltUq3OgBSm=s64",
      "userId": "17819054307358915746"
     },
     "user_tz": 240
    },
    "id": "w33IafvU41nP",
    "outputId": "ee531603-133d-4ae7-945b-50366c36fecf"
   },
   "outputs": [
    {
     "data": {
      "text/plain": [
       "Text(0, 0.5, 'Emission')"
      ]
     },
     "execution_count": 16,
     "metadata": {},
     "output_type": "execute_result"
    },
    {
     "data": {
      "image/png": "[encoded data removed]",
      "text/plain": [
       "<Figure size 432x288 with 1 Axes>"
      ]
     },
     "metadata": {
      "needs_background": "light"
     },
     "output_type": "display_data"
    }
   ],
   "source": [
    "# Scatterplot using training set\n",
    "plt.scatter(train[\"ENGINESIZE\"], train[\"CO2EMISSIONS\"], color='blue')\n",
    "\n",
    "# Use calculated coefficients to plot regression line\n",
    "plt.plot(train_x, regr.coef_*train_x + regr.intercept_, '-r')\n",
    "plt.xlabel(\"Engine size\")\n",
    "plt.ylabel(\"Emission\")"
   ]
  },
  {
   "cell_type": "markdown",
   "metadata": {},
   "source": [
    "Define a UDF to use coefficient of fit model to make predictions of unknown data"
   ]
  },
  {
   "cell_type": "code",
   "execution_count": 27,
   "metadata": {
    "colab": {
     "base_uri": "https://localhost:8080/",
     "height": 647
    },
    "colab_type": "code",
    "executionInfo": {
     "elapsed": 926,
     "status": "ok",
     "timestamp": 1592241356987,
     "user": {
      "displayName": "Towards AI Co.",
      "photoUrl": "https://lh3.googleusercontent.com/a-/AOh14GhLbx5D2CftHxCgQKz-ZkqP05DaA5ltUq3OgBSm=s64",
      "userId": "17819054307358915746"
     },
     "user_tz": 240
    },
    "id": "w33IafvU41nP",
    "outputId": "ee531603-133d-4ae7-945b-50366c36fecf"
   },
   "outputs": [
    {
     "name": "stdout",
     "output_type": "stream",
     "text": [
      "Estimated Emission : 262.9528329350172\n"
     ]
    }
   ],
   "source": [
    "# Predicting CO2 emissions:\n",
    "# Function for predicting future values of CO2:\n",
    "def get_regression_predictions(X,intercept,slope):\n",
    " predicted_values = X*slope + intercept\n",
    " return predicted_values\n",
    "\n",
    "# Predicting emission for future car:\n",
    "new_engine_size = 3.5\n",
    "estimatd_emission = get_regression_predictions(X=new_engine_size,intercept=regr.intercept_[0],slope=regr.coef_[0][0])\n",
    "print (\"Estimated Emission :\",estimatd_emission)"
   ]
  },
  {
   "cell_type": "code",
   "execution_count": 18,
   "metadata": {
    "colab": {
     "base_uri": "https://localhost:8080/",
     "height": 647
    },
    "colab_type": "code",
    "executionInfo": {
     "elapsed": 926,
     "status": "ok",
     "timestamp": 1592241356987,
     "user": {
      "displayName": "Towards AI Co.",
      "photoUrl": "https://lh3.googleusercontent.com/a-/AOh14GhLbx5D2CftHxCgQKz-ZkqP05DaA5ltUq3OgBSm=s64",
      "userId": "17819054307358915746"
     },
     "user_tz": 240
    },
    "id": "w33IafvU41nP",
    "outputId": "ee531603-133d-4ae7-945b-50366c36fecf"
   },
   "outputs": [
    {
     "name": "stdout",
     "output_type": "stream",
     "text": [
      "Mean absolute error: 20.60\n",
      "Mean sum of squares (MSE): 746.45\n",
      "R2-score: 0.71\n"
     ]
    }
   ],
   "source": [
    "# Checking various accuracy:\n",
    "from sklearn.metrics import r2_score\n",
    "test_x = np.array(test[['ENGINESIZE']])\n",
    "test_y = np.array(test[['CO2EMISSIONS']])\n",
    "test_y_ = regr.predict(test_x)            # Use predict() method on test set\n",
    "\n",
    "print(\"Mean absolute error: %.2f\" % np.mean(np.absolute(test_y_ - test_y)))\n",
    "print(\"Mean sum of squares (MSE): %.2f\" % np.mean((test_y_ - test_y) ** 2))\n",
    "\n",
    "# Calc RMSE\n",
    "print(\"R2-score: %.2f\" % r2_score(test_y_ , test_y) )"
   ]
  },
  {
   "cell_type": "markdown",
   "metadata": {
    "colab_type": "text",
    "id": "sTVcjiI_AX2X"
   },
   "source": [
    "# Multiple Linear Regression\n",
    "\n",
    "Now let's extend our use of linear regression to situations were multiple predictors are required."
   ]
  },
  {
   "cell_type": "code",
   "execution_count": 38,
   "metadata": {
    "colab": {
     "base_uri": "https://localhost:8080/",
     "height": 35
    },
    "colab_type": "code",
    "executionInfo": {
     "elapsed": 621,
     "status": "ok",
     "timestamp": 1592249455714,
     "user": {
      "displayName": "Towards AI Co.",
      "photoUrl": "https://lh3.googleusercontent.com/a-/AOh14GhLbx5D2CftHxCgQKz-ZkqP05DaA5ltUq3OgBSm=s64",
      "userId": "17819054307358915746"
     },
     "user_tz": 240
    },
    "id": "eQfVWFlrAbl3",
    "outputId": "4d352621-f40e-4420-bdba-295e4c8395b2"
   },
   "outputs": [],
   "source": [
    "%matplotlib inline\n",
    "\n",
    "# Import the required libraries:\n",
    "import pandas as pd\n",
    "import numpy as np\n",
    "import matplotlib.pyplot as plt\n",
    "from sklearn import linear_model"
   ]
  },
  {
   "cell_type": "code",
   "execution_count": 83,
   "metadata": {
    "colab": {
     "base_uri": "https://localhost:8080/",
     "height": 35
    },
    "colab_type": "code",
    "executionInfo": {
     "elapsed": 621,
     "status": "ok",
     "timestamp": 1592249455714,
     "user": {
      "displayName": "Towards AI Co.",
      "photoUrl": "https://lh3.googleusercontent.com/a-/AOh14GhLbx5D2CftHxCgQKz-ZkqP05DaA5ltUq3OgBSm=s64",
      "userId": "17819054307358915746"
     },
     "user_tz": 240
    },
    "id": "eQfVWFlrAbl3",
    "outputId": "4d352621-f40e-4420-bdba-295e4c8395b2"
   },
   "outputs": [
    {
     "data": {
      "text/html": [
       "<div>\n",
       "<style scoped>\n",
       "    .dataframe tbody tr th:only-of-type {\n",
       "        vertical-align: middle;\n",
       "    }\n",
       "\n",
       "    .dataframe tbody tr th {\n",
       "        vertical-align: top;\n",
       "    }\n",
       "\n",
       "    .dataframe thead th {\n",
       "        text-align: right;\n",
       "    }\n",
       "</style>\n",
       "<table border=\"1\" class=\"dataframe\">\n",
       "  <thead>\n",
       "    <tr style=\"text-align: right;\">\n",
       "      <th></th>\n",
       "      <th>MODELYEAR</th>\n",
       "      <th>MAKE</th>\n",
       "      <th>MODEL</th>\n",
       "      <th>VEHICLECLASS</th>\n",
       "      <th>ENGINESIZE</th>\n",
       "      <th>CYLINDERS</th>\n",
       "      <th>TRANSMISSION</th>\n",
       "      <th>FUELTYPE</th>\n",
       "      <th>FUELCONSUMPTION_CITY</th>\n",
       "      <th>FUELCONSUMPTION_HWY</th>\n",
       "      <th>FUELCONSUMPTION_COMB</th>\n",
       "      <th>FUELCONSUMPTION_COMB_MPG</th>\n",
       "      <th>CO2EMISSIONS</th>\n",
       "    </tr>\n",
       "  </thead>\n",
       "  <tbody>\n",
       "    <tr>\n",
       "      <th>0</th>\n",
       "      <td>2014</td>\n",
       "      <td>ACURA</td>\n",
       "      <td>ILX</td>\n",
       "      <td>COMPACT</td>\n",
       "      <td>2.0</td>\n",
       "      <td>4</td>\n",
       "      <td>AS5</td>\n",
       "      <td>Z</td>\n",
       "      <td>9.9</td>\n",
       "      <td>6.7</td>\n",
       "      <td>8.5</td>\n",
       "      <td>33</td>\n",
       "      <td>196</td>\n",
       "    </tr>\n",
       "    <tr>\n",
       "      <th>1</th>\n",
       "      <td>2014</td>\n",
       "      <td>ACURA</td>\n",
       "      <td>ILX</td>\n",
       "      <td>COMPACT</td>\n",
       "      <td>2.4</td>\n",
       "      <td>4</td>\n",
       "      <td>M6</td>\n",
       "      <td>Z</td>\n",
       "      <td>11.2</td>\n",
       "      <td>7.7</td>\n",
       "      <td>9.6</td>\n",
       "      <td>29</td>\n",
       "      <td>221</td>\n",
       "    </tr>\n",
       "    <tr>\n",
       "      <th>2</th>\n",
       "      <td>2014</td>\n",
       "      <td>ACURA</td>\n",
       "      <td>ILX HYBRID</td>\n",
       "      <td>COMPACT</td>\n",
       "      <td>1.5</td>\n",
       "      <td>4</td>\n",
       "      <td>AV7</td>\n",
       "      <td>Z</td>\n",
       "      <td>6.0</td>\n",
       "      <td>5.8</td>\n",
       "      <td>5.9</td>\n",
       "      <td>48</td>\n",
       "      <td>136</td>\n",
       "    </tr>\n",
       "    <tr>\n",
       "      <th>3</th>\n",
       "      <td>2014</td>\n",
       "      <td>ACURA</td>\n",
       "      <td>MDX 4WD</td>\n",
       "      <td>SUV - SMALL</td>\n",
       "      <td>3.5</td>\n",
       "      <td>6</td>\n",
       "      <td>AS6</td>\n",
       "      <td>Z</td>\n",
       "      <td>12.7</td>\n",
       "      <td>9.1</td>\n",
       "      <td>11.1</td>\n",
       "      <td>25</td>\n",
       "      <td>255</td>\n",
       "    </tr>\n",
       "    <tr>\n",
       "      <th>4</th>\n",
       "      <td>2014</td>\n",
       "      <td>ACURA</td>\n",
       "      <td>RDX AWD</td>\n",
       "      <td>SUV - SMALL</td>\n",
       "      <td>3.5</td>\n",
       "      <td>6</td>\n",
       "      <td>AS6</td>\n",
       "      <td>Z</td>\n",
       "      <td>12.1</td>\n",
       "      <td>8.7</td>\n",
       "      <td>10.6</td>\n",
       "      <td>27</td>\n",
       "      <td>244</td>\n",
       "    </tr>\n",
       "  </tbody>\n",
       "</table>\n",
       "</div>"
      ],
      "text/plain": [
       "   MODELYEAR   MAKE       MODEL VEHICLECLASS  ENGINESIZE  CYLINDERS  \\\n",
       "0       2014  ACURA         ILX      COMPACT         2.0          4   \n",
       "1       2014  ACURA         ILX      COMPACT         2.4          4   \n",
       "2       2014  ACURA  ILX HYBRID      COMPACT         1.5          4   \n",
       "3       2014  ACURA     MDX 4WD  SUV - SMALL         3.5          6   \n",
       "4       2014  ACURA     RDX AWD  SUV - SMALL         3.5          6   \n",
       "\n",
       "  TRANSMISSION FUELTYPE  FUELCONSUMPTION_CITY  FUELCONSUMPTION_HWY  \\\n",
       "0          AS5        Z                   9.9                  6.7   \n",
       "1           M6        Z                  11.2                  7.7   \n",
       "2          AV7        Z                   6.0                  5.8   \n",
       "3          AS6        Z                  12.7                  9.1   \n",
       "4          AS6        Z                  12.1                  8.7   \n",
       "\n",
       "   FUELCONSUMPTION_COMB  FUELCONSUMPTION_COMB_MPG  CO2EMISSIONS  \n",
       "0                   8.5                        33           196  \n",
       "1                   9.6                        29           221  \n",
       "2                   5.9                        48           136  \n",
       "3                  11.1                        25           255  \n",
       "4                  10.6                        27           244  "
      ]
     },
     "execution_count": 83,
     "metadata": {},
     "output_type": "execute_result"
    }
   ],
   "source": [
    "# Read the CSV file:\n",
    "data = pd.read_csv(\"https://s3-api.us-geo.objectstorage.softlayer.net/cf-courses-data/CognitiveClass/ML0101ENv3/labs/FuelConsumptionCo2.csv\")\n",
    "data.head()"
   ]
  },
  {
   "cell_type": "markdown",
   "metadata": {},
   "source": [
    "Use train_test_split method to create randomized training and test sets"
   ]
  },
  {
   "cell_type": "code",
   "execution_count": 72,
   "metadata": {},
   "outputs": [
    {
     "name": "stdout",
     "output_type": "stream",
     "text": [
      "<class 'pandas.core.frame.DataFrame'>\n",
      "<class 'pandas.core.series.Series'>\n",
      "<class 'pandas.core.frame.DataFrame'> <class 'pandas.core.frame.DataFrame'> <class 'pandas.core.series.Series'> <class 'pandas.core.series.Series'>\n"
     ]
    }
   ],
   "source": [
    "# Split data into training and test sets \n",
    "\n",
    "from sklearn.model_selection import train_test_split\n",
    "X=data[[ 'ENGINESIZE', 'CYLINDERS', 'FUELCONSUMPTION_CITY',\n",
    " 'FUELCONSUMPTION_HWY', 'FUELCONSUMPTION_COMB','FUELCONSUMPTION_COMB_MPG']]     # Create X DataFrame\n",
    "print(type(X))\n",
    "\n",
    "y=data[\"CO2EMISSIONS\"]       # Create y series\n",
    "print(type(y))\n",
    "\n",
    "train_x, test_x, train_y, test_y = train_test_split(X, y, test_size=0.2, random_state=42)\n",
    "\n",
    "print(type(train_x),type(test_x), type(train_y), type(test_y))"
   ]
  },
  {
   "cell_type": "markdown",
   "metadata": {},
   "source": [
    "Train the multiple linear regression model"
   ]
  },
  {
   "cell_type": "code",
   "execution_count": 73,
   "metadata": {
    "colab": {
     "base_uri": "https://localhost:8080/",
     "height": 35
    },
    "colab_type": "code",
    "executionInfo": {
     "elapsed": 621,
     "status": "ok",
     "timestamp": 1592249455714,
     "user": {
      "displayName": "Towards AI Co.",
      "photoUrl": "https://lh3.googleusercontent.com/a-/AOh14GhLbx5D2CftHxCgQKz-ZkqP05DaA5ltUq3OgBSm=s64",
      "userId": "17819054307358915746"
     },
     "user_tz": 240
    },
    "id": "eQfVWFlrAbl3",
    "outputId": "4d352621-f40e-4420-bdba-295e4c8395b2"
   },
   "outputs": [],
   "source": [
    "# Using sklearn package to model data\n",
    "regr = linear_model.LinearRegression()"
   ]
  },
  {
   "cell_type": "markdown",
   "metadata": {},
   "source": [
    "Call fit method to train the algorithm using the training set"
   ]
  },
  {
   "cell_type": "code",
   "execution_count": 74,
   "metadata": {
    "colab": {
     "base_uri": "https://localhost:8080/",
     "height": 35
    },
    "colab_type": "code",
    "executionInfo": {
     "elapsed": 621,
     "status": "ok",
     "timestamp": 1592249455714,
     "user": {
      "displayName": "Towards AI Co.",
      "photoUrl": "https://lh3.googleusercontent.com/a-/AOh14GhLbx5D2CftHxCgQKz-ZkqP05DaA5ltUq3OgBSm=s64",
      "userId": "17819054307358915746"
     },
     "user_tz": 240
    },
    "id": "eQfVWFlrAbl3",
    "outputId": "4d352621-f40e-4420-bdba-295e4c8395b2"
   },
   "outputs": [
    {
     "data": {
      "text/plain": [
       "LinearRegression(copy_X=True, fit_intercept=True, n_jobs=None,\n",
       "         normalize=False)"
      ]
     },
     "execution_count": 74,
     "metadata": {},
     "output_type": "execute_result"
    }
   ],
   "source": [
    "# Fit the linear model using training set\n",
    "regr.fit(train_x,train_y)"
   ]
  },
  {
   "cell_type": "markdown",
   "metadata": {},
   "source": [
    "Explore the fitted linear model"
   ]
  },
  {
   "cell_type": "code",
   "execution_count": 75,
   "metadata": {
    "colab": {
     "base_uri": "https://localhost:8080/",
     "height": 35
    },
    "colab_type": "code",
    "executionInfo": {
     "elapsed": 621,
     "status": "ok",
     "timestamp": 1592249455714,
     "user": {
      "displayName": "Towards AI Co.",
      "photoUrl": "https://lh3.googleusercontent.com/a-/AOh14GhLbx5D2CftHxCgQKz-ZkqP05DaA5ltUq3OgBSm=s64",
      "userId": "17819054307358915746"
     },
     "user_tz": 240
    },
    "id": "eQfVWFlrAbl3",
    "outputId": "4d352621-f40e-4420-bdba-295e4c8395b2"
   },
   "outputs": [
    {
     "name": "stdout",
     "output_type": "stream",
     "text": [
      "Coefficients:                           Coefficients\n",
      "ENGINESIZE                    8.961151\n",
      "CYLINDERS                     7.240237\n",
      "FUELCONSUMPTION_CITY        -13.001567\n",
      "FUELCONSUMPTION_HWY          -5.472156\n",
      "FUELCONSUMPTION_COMB         21.866973\n",
      "FUELCONSUMPTION_COMB_MPG     -4.034460\n",
      "R² : 0.9034041224574011\n"
     ]
    }
   ],
   "source": [
    "# print the coefficient values:\n",
    "coeff_data = pd.DataFrame(regr.coef_ , X.columns , columns=[\"Coefficients\"])\n",
    "print(\"Coefficients:\", coeff_data)\n",
    "\n",
    "# Perform test set predictions using trained model regr\n",
    "Y_pred = regr.predict(test_x)\n",
    "\n",
    "# Check accuracy using R-squared\n",
    "from sklearn.metrics import r2_score\n",
    "R = r2_score(test_y , Y_pred)          \n",
    "print (\"R² :\",R)         # .936 great!"
   ]
  },
  {
   "cell_type": "markdown",
   "metadata": {
    "colab_type": "text",
    "id": "OnN44asuAo_m"
   },
   "source": [
    "# Polynomial Regression\n",
    "\n",
    "Sometimes you may encounter data that does not follow a linear trend. Sometimes you'll find that the data follows a polynomial trend. In this case a useful technique is polynomial regression. First, let's take a look at some plots for various forms of polynomial data."
   ]
  },
  {
   "cell_type": "code",
   "execution_count": 46,
   "metadata": {
    "colab": {
     "base_uri": "https://localhost:8080/",
     "height": 283
    },
    "colab_type": "code",
    "executionInfo": {
     "elapsed": 506,
     "status": "ok",
     "timestamp": 1592329165191,
     "user": {
      "displayName": "Towards AI Co.",
      "photoUrl": "https://lh3.googleusercontent.com/a-/AOh14GhLbx5D2CftHxCgQKz-ZkqP05DaA5ltUq3OgBSm=s64",
      "userId": "17819054307358915746"
     },
     "user_tz": 240
    },
    "id": "KPl85hmJAroZ",
    "outputId": "0762f4d9-0593-4a40-92c0-17384032ce31"
   },
   "outputs": [],
   "source": [
    "%matplotlib inline\n",
    "\n",
    "# Import required libraries:\n",
    "import numpy as np\n",
    "import matplotlib.pyplot as plt"
   ]
  },
  {
   "cell_type": "markdown",
   "metadata": {},
   "source": [
    "### Polynomial Functions and Their Graphs"
   ]
  },
  {
   "cell_type": "code",
   "execution_count": 85,
   "metadata": {},
   "outputs": [
    {
     "data": {
      "text/plain": [
       "<matplotlib.collections.PathCollection at 0x7fc077b07e80>"
      ]
     },
     "execution_count": 85,
     "metadata": {},
     "output_type": "execute_result"
    },
    {
     "data": {
      "image/png": "[encoded data removed]",
      "text/plain": [
       "<Figure size 432x288 with 1 Axes>"
      ]
     },
     "metadata": {
      "needs_background": "light"
     },
     "output_type": "display_data"
    }
   ],
   "source": [
    "# Plot for y=x\n",
    "x=np.arange(-10,10)\n",
    "y=x\n",
    "plt.scatter(x,y)"
   ]
  },
  {
   "cell_type": "code",
   "execution_count": 86,
   "metadata": {},
   "outputs": [
    {
     "data": {
      "text/plain": [
       "<matplotlib.collections.PathCollection at 0x7fc077e03908>"
      ]
     },
     "execution_count": 86,
     "metadata": {},
     "output_type": "execute_result"
    },
    {
     "data": {
      "image/png": "[encoded data removed]",
      "text/plain": [
       "<Figure size 432x288 with 1 Axes>"
      ]
     },
     "metadata": {
      "needs_background": "light"
     },
     "output_type": "display_data"
    }
   ],
   "source": [
    "# Plot for y=x^2  quadratic polynomial\n",
    "x=np.arange(-10,10)\n",
    "y=np.power(x,2)\n",
    "plt.scatter(x,y)"
   ]
  },
  {
   "cell_type": "code",
   "execution_count": 87,
   "metadata": {},
   "outputs": [
    {
     "data": {
      "text/plain": [
       "<matplotlib.collections.PathCollection at 0x7fc077e5e048>"
      ]
     },
     "execution_count": 87,
     "metadata": {},
     "output_type": "execute_result"
    },
    {
     "data": {
      "image/png": "[encoded data removed]",
      "text/plain": [
       "<Figure size 432x288 with 1 Axes>"
      ]
     },
     "metadata": {
      "needs_background": "light"
     },
     "output_type": "display_data"
    }
   ],
   "source": [
    "# Plot for y=x^3 cubic polynomial\n",
    "x=np.arange(-10,10)\n",
    "y=np.power(x,3)\n",
    "plt.scatter(x,y)"
   ]
  },
  {
   "cell_type": "code",
   "execution_count": 88,
   "metadata": {},
   "outputs": [
    {
     "data": {
      "text/plain": [
       "<matplotlib.collections.PathCollection at 0x7fc077e452b0>"
      ]
     },
     "execution_count": 88,
     "metadata": {},
     "output_type": "execute_result"
    },
    {
     "data": {
      "image/png": "[encoded data removed]",
      "text/plain": [
       "<Figure size 432x288 with 1 Axes>"
      ]
     },
     "metadata": {
      "needs_background": "light"
     },
     "output_type": "display_data"
    }
   ],
   "source": [
    "# Plot for y=x^3+x^2+x\n",
    "# Plot for y=x^3\n",
    "\n",
    "x=np.arange(-10,10)\n",
    "y=np.power(x,3)\n",
    "y1=np.power(x,3)+np.power(x,2)+x\n",
    "\n",
    "# Notice the highest order term in the polynomial is most influential in the plot\n",
    "plt.scatter(x,y1,c=\"red\")\n",
    "plt.scatter(x,y)"
   ]
  },
  {
   "cell_type": "markdown",
   "metadata": {},
   "source": [
    "Generate simulated data set for explorying polynomial regression"
   ]
  },
  {
   "cell_type": "code",
   "execution_count": 117,
   "metadata": {
    "colab": {
     "base_uri": "https://localhost:8080/",
     "height": 283
    },
    "colab_type": "code",
    "executionInfo": {
     "elapsed": 506,
     "status": "ok",
     "timestamp": 1592329165191,
     "user": {
      "displayName": "Towards AI Co.",
      "photoUrl": "https://lh3.googleusercontent.com/a-/AOh14GhLbx5D2CftHxCgQKz-ZkqP05DaA5ltUq3OgBSm=s64",
      "userId": "17819054307358915746"
     },
     "user_tz": 240
    },
    "id": "KPl85hmJAroZ",
    "outputId": "0762f4d9-0593-4a40-92c0-17384032ce31"
   },
   "outputs": [
    {
     "name": "stdout",
     "output_type": "stream",
     "text": [
      "[-5.00000000e+00 -4.90000000e+00 -4.80000000e+00 -4.70000000e+00\n",
      " -4.60000000e+00 -4.50000000e+00 -4.40000000e+00 -4.30000000e+00\n",
      " -4.20000000e+00 -4.10000000e+00 -4.00000000e+00 -3.90000000e+00\n",
      " -3.80000000e+00 -3.70000000e+00 -3.60000000e+00 -3.50000000e+00\n",
      " -3.40000000e+00 -3.30000000e+00 -3.20000000e+00 -3.10000000e+00\n",
      " -3.00000000e+00 -2.90000000e+00 -2.80000000e+00 -2.70000000e+00\n",
      " -2.60000000e+00 -2.50000000e+00 -2.40000000e+00 -2.30000000e+00\n",
      " -2.20000000e+00 -2.10000000e+00 -2.00000000e+00 -1.90000000e+00\n",
      " -1.80000000e+00 -1.70000000e+00 -1.60000000e+00 -1.50000000e+00\n",
      " -1.40000000e+00 -1.30000000e+00 -1.20000000e+00 -1.10000000e+00\n",
      " -1.00000000e+00 -9.00000000e-01 -8.00000000e-01 -7.00000000e-01\n",
      " -6.00000000e-01 -5.00000000e-01 -4.00000000e-01 -3.00000000e-01\n",
      " -2.00000000e-01 -1.00000000e-01 -1.77635684e-14  1.00000000e-01\n",
      "  2.00000000e-01  3.00000000e-01  4.00000000e-01  5.00000000e-01\n",
      "  6.00000000e-01  7.00000000e-01  8.00000000e-01  9.00000000e-01\n",
      "  1.00000000e+00  1.10000000e+00  1.20000000e+00  1.30000000e+00\n",
      "  1.40000000e+00  1.50000000e+00  1.60000000e+00  1.70000000e+00\n",
      "  1.80000000e+00  1.90000000e+00  2.00000000e+00  2.10000000e+00\n",
      "  2.20000000e+00  2.30000000e+00  2.40000000e+00  2.50000000e+00\n",
      "  2.60000000e+00  2.70000000e+00  2.80000000e+00  2.90000000e+00\n",
      "  3.00000000e+00  3.10000000e+00  3.20000000e+00  3.30000000e+00\n",
      "  3.40000000e+00  3.50000000e+00  3.60000000e+00  3.70000000e+00\n",
      "  3.80000000e+00  3.90000000e+00  4.00000000e+00  4.10000000e+00\n",
      "  4.20000000e+00  4.30000000e+00  4.40000000e+00  4.50000000e+00\n",
      "  4.60000000e+00  4.70000000e+00  4.80000000e+00  4.90000000e+00]\n",
      "100\n",
      "[-6.40985222e+01 -7.06553080e+01 -1.06443064e+02 -9.12174060e+01\n",
      " -5.80329025e+01 -6.20566906e+01 -5.25677424e+01 -7.37917712e+01\n",
      " -3.58705848e+01 -4.83671983e+01 -6.75476891e+01 -6.30473677e+01\n",
      " -5.59277733e+01 -6.55113462e+01 -3.13122623e+01 -4.06952532e+01\n",
      " -1.24508273e+01 -1.42607241e+01  2.01301854e+01 -2.98986826e+01\n",
      " -1.13769472e+01 -2.27205634e+01 -2.61974061e+01 -4.25638878e+01\n",
      " -1.11593051e+01 -2.09109247e+01  8.69725358e+00 -5.05987214e+00\n",
      "  2.83704387e+00 -1.34711670e+01  2.61631276e+01  1.27949395e+01\n",
      "  1.31124113e+01 -2.99711848e+01 -2.56898188e+01 -2.57326277e+01\n",
      "  2.04781766e+01  2.00680071e+01  2.45178573e+00  2.28474309e+01\n",
      " -5.60835960e+00 -1.42729377e+01 -6.07301351e-02  1.31421930e+01\n",
      " -5.57983151e+00 -1.01127112e+00  1.53214997e+00 -1.10568452e+01\n",
      "  3.50358373e+01  3.83140940e+01  1.49803699e+01 -1.08634057e+01\n",
      " -3.65025114e+01  2.85410739e+01 -2.21600685e+01  3.51313549e+01\n",
      " -1.76037144e+01  1.06785492e+01 -1.62503728e+01  6.10834323e+00\n",
      " -3.59204204e+01 -2.04437202e+01 -1.04947812e+01 -7.50733985e+00\n",
      " -1.04126723e+01  1.89608221e+01 -7.41415203e+00 -2.36133241e+01\n",
      "  2.32259176e+01 -1.65602983e+01  1.39329168e+01 -1.00075766e+01\n",
      "  2.34183859e+01  3.45746683e+01  2.61489863e+01  5.74981770e+01\n",
      "  3.09861486e+01  5.61996661e+01  1.81610488e+01  6.11450555e+01\n",
      "  3.08031548e+01  2.89298077e+01  4.59779224e+01  6.38691991e+01\n",
      "  6.13376475e+01  5.79007785e+01  2.09925253e+01  8.71075036e+01\n",
      "  4.87408095e+01  7.53268904e+01  1.17624010e+02  7.53894275e+01\n",
      "  9.08021007e+01  1.27079400e+02  1.23995831e+02  1.31730836e+02\n",
      "  1.25047474e+02  1.39142397e+02  1.31173542e+02  1.47250206e+02]\n"
     ]
    }
   ],
   "source": [
    "# Generate simulated datapoints: array sequence from -5 to 5 in steps of .1\n",
    "x = np.arange(-5,5,0.1)\n",
    "print(x)\n",
    "print(len(x))   # 100\n",
    "\n",
    "# Generate error term (normal distribution)\n",
    "y_noise = 20 * np.random.normal(size = len(x))\n",
    "\n",
    "# 3rd order polynomial including error term\n",
    "y = 1*(x**3) + 1*(x**2) + 1*x + 3+y_noise\n",
    "print(y)"
   ]
  },
  {
   "cell_type": "markdown",
   "metadata": {},
   "source": [
    "Use a scatterplot to visualize the non-linear relationship"
   ]
  },
  {
   "cell_type": "code",
   "execution_count": 48,
   "metadata": {
    "colab": {
     "base_uri": "https://localhost:8080/",
     "height": 283
    },
    "colab_type": "code",
    "executionInfo": {
     "elapsed": 506,
     "status": "ok",
     "timestamp": 1592329165191,
     "user": {
      "displayName": "Towards AI Co.",
      "photoUrl": "https://lh3.googleusercontent.com/a-/AOh14GhLbx5D2CftHxCgQKz-ZkqP05DaA5ltUq3OgBSm=s64",
      "userId": "17819054307358915746"
     },
     "user_tz": 240
    },
    "id": "KPl85hmJAroZ",
    "outputId": "0762f4d9-0593-4a40-92c0-17384032ce31"
   },
   "outputs": [
    {
     "data": {
      "text/plain": [
       "<matplotlib.collections.PathCollection at 0x7fc0712b3518>"
      ]
     },
     "execution_count": 48,
     "metadata": {},
     "output_type": "execute_result"
    },
    {
     "data": {
      "image/png": "[encoded data removed]",
      "text/plain": [
       "<Figure size 432x288 with 1 Axes>"
      ]
     },
     "metadata": {
      "needs_background": "light"
     },
     "output_type": "display_data"
    }
   ],
   "source": [
    "plt.scatter(x,y)"
   ]
  },
  {
   "cell_type": "code",
   "execution_count": 118,
   "metadata": {
    "colab": {
     "base_uri": "https://localhost:8080/",
     "height": 283
    },
    "colab_type": "code",
    "executionInfo": {
     "elapsed": 506,
     "status": "ok",
     "timestamp": 1592329165191,
     "user": {
      "displayName": "Towards AI Co.",
      "photoUrl": "https://lh3.googleusercontent.com/a-/AOh14GhLbx5D2CftHxCgQKz-ZkqP05DaA5ltUq3OgBSm=s64",
      "userId": "17819054307358915746"
     },
     "user_tz": 240
    },
    "id": "KPl85hmJAroZ",
    "outputId": "0762f4d9-0593-4a40-92c0-17384032ce31"
   },
   "outputs": [
    {
     "name": "stdout",
     "output_type": "stream",
     "text": [
      "Class of x: <class 'numpy.ndarray'>\n",
      "100\n",
      "[-5.00000000e+00 -4.90000000e+00 -4.80000000e+00 -4.70000000e+00\n",
      " -4.60000000e+00 -4.50000000e+00 -4.40000000e+00 -4.30000000e+00\n",
      " -4.20000000e+00 -4.10000000e+00 -4.00000000e+00 -3.90000000e+00\n",
      " -3.80000000e+00 -3.70000000e+00 -3.60000000e+00 -3.50000000e+00\n",
      " -3.40000000e+00 -3.30000000e+00 -3.20000000e+00 -3.10000000e+00\n",
      " -3.00000000e+00 -2.90000000e+00 -2.80000000e+00 -2.70000000e+00\n",
      " -2.60000000e+00 -2.50000000e+00 -2.40000000e+00 -2.30000000e+00\n",
      " -2.20000000e+00 -2.10000000e+00 -2.00000000e+00 -1.90000000e+00\n",
      " -1.80000000e+00 -1.70000000e+00 -1.60000000e+00 -1.50000000e+00\n",
      " -1.40000000e+00 -1.30000000e+00 -1.20000000e+00 -1.10000000e+00\n",
      " -1.00000000e+00 -9.00000000e-01 -8.00000000e-01 -7.00000000e-01\n",
      " -6.00000000e-01 -5.00000000e-01 -4.00000000e-01 -3.00000000e-01\n",
      " -2.00000000e-01 -1.00000000e-01 -1.77635684e-14  1.00000000e-01\n",
      "  2.00000000e-01  3.00000000e-01  4.00000000e-01  5.00000000e-01\n",
      "  6.00000000e-01  7.00000000e-01  8.00000000e-01  9.00000000e-01\n",
      "  1.00000000e+00  1.10000000e+00  1.20000000e+00  1.30000000e+00\n",
      "  1.40000000e+00  1.50000000e+00  1.60000000e+00  1.70000000e+00\n",
      "  1.80000000e+00  1.90000000e+00  2.00000000e+00  2.10000000e+00\n",
      "  2.20000000e+00  2.30000000e+00  2.40000000e+00  2.50000000e+00\n",
      "  2.60000000e+00  2.70000000e+00  2.80000000e+00  2.90000000e+00\n",
      "  3.00000000e+00  3.10000000e+00  3.20000000e+00  3.30000000e+00\n",
      "  3.40000000e+00  3.50000000e+00  3.60000000e+00  3.70000000e+00\n",
      "  3.80000000e+00  3.90000000e+00  4.00000000e+00  4.10000000e+00\n",
      "  4.20000000e+00  4.30000000e+00  4.40000000e+00  4.50000000e+00\n",
      "  4.60000000e+00  4.70000000e+00  4.80000000e+00  4.90000000e+00]\n"
     ]
    }
   ],
   "source": [
    "# Make polynomial data:\n",
    "x1 = x                   # x^1 term of polynomial\n",
    "x2 = np.power(x1,2)      # x^2 term of polynomial\n",
    "x3 = np.power(x1,3)      # x^3 term of polynomial\n",
    "n = len(x1)     # 100\n",
    "\n",
    "print(\"Class of x:\",type(x))\n",
    "print(n)\n",
    "print(x1)"
   ]
  },
  {
   "cell_type": "code",
   "execution_count": 119,
   "metadata": {
    "colab": {
     "base_uri": "https://localhost:8080/",
     "height": 283
    },
    "colab_type": "code",
    "executionInfo": {
     "elapsed": 506,
     "status": "ok",
     "timestamp": 1592329165191,
     "user": {
      "displayName": "Towards AI Co.",
      "photoUrl": "https://lh3.googleusercontent.com/a-/AOh14GhLbx5D2CftHxCgQKz-ZkqP05DaA5ltUq3OgBSm=s64",
      "userId": "17819054307358915746"
     },
     "user_tz": 240
    },
    "id": "KPl85hmJAroZ",
    "outputId": "0762f4d9-0593-4a40-92c0-17384032ce31"
   },
   "outputs": [
    {
     "name": "stdout",
     "output_type": "stream",
     "text": [
      "[[-5.00000000e+00]\n",
      " [-4.90000000e+00]\n",
      " [-4.80000000e+00]\n",
      " [-4.70000000e+00]\n",
      " [-4.60000000e+00]\n",
      " [-4.50000000e+00]\n",
      " [-4.40000000e+00]\n",
      " [-4.30000000e+00]\n",
      " [-4.20000000e+00]\n",
      " [-4.10000000e+00]\n",
      " [-4.00000000e+00]\n",
      " [-3.90000000e+00]\n",
      " [-3.80000000e+00]\n",
      " [-3.70000000e+00]\n",
      " [-3.60000000e+00]\n",
      " [-3.50000000e+00]\n",
      " [-3.40000000e+00]\n",
      " [-3.30000000e+00]\n",
      " [-3.20000000e+00]\n",
      " [-3.10000000e+00]\n",
      " [-3.00000000e+00]\n",
      " [-2.90000000e+00]\n",
      " [-2.80000000e+00]\n",
      " [-2.70000000e+00]\n",
      " [-2.60000000e+00]\n",
      " [-2.50000000e+00]\n",
      " [-2.40000000e+00]\n",
      " [-2.30000000e+00]\n",
      " [-2.20000000e+00]\n",
      " [-2.10000000e+00]\n",
      " [-2.00000000e+00]\n",
      " [-1.90000000e+00]\n",
      " [-1.80000000e+00]\n",
      " [-1.70000000e+00]\n",
      " [-1.60000000e+00]\n",
      " [-1.50000000e+00]\n",
      " [-1.40000000e+00]\n",
      " [-1.30000000e+00]\n",
      " [-1.20000000e+00]\n",
      " [-1.10000000e+00]\n",
      " [-1.00000000e+00]\n",
      " [-9.00000000e-01]\n",
      " [-8.00000000e-01]\n",
      " [-7.00000000e-01]\n",
      " [-6.00000000e-01]\n",
      " [-5.00000000e-01]\n",
      " [-4.00000000e-01]\n",
      " [-3.00000000e-01]\n",
      " [-2.00000000e-01]\n",
      " [-1.00000000e-01]\n",
      " [-1.77635684e-14]\n",
      " [ 1.00000000e-01]\n",
      " [ 2.00000000e-01]\n",
      " [ 3.00000000e-01]\n",
      " [ 4.00000000e-01]\n",
      " [ 5.00000000e-01]\n",
      " [ 6.00000000e-01]\n",
      " [ 7.00000000e-01]\n",
      " [ 8.00000000e-01]\n",
      " [ 9.00000000e-01]\n",
      " [ 1.00000000e+00]\n",
      " [ 1.10000000e+00]\n",
      " [ 1.20000000e+00]\n",
      " [ 1.30000000e+00]\n",
      " [ 1.40000000e+00]\n",
      " [ 1.50000000e+00]\n",
      " [ 1.60000000e+00]\n",
      " [ 1.70000000e+00]\n",
      " [ 1.80000000e+00]\n",
      " [ 1.90000000e+00]\n",
      " [ 2.00000000e+00]\n",
      " [ 2.10000000e+00]\n",
      " [ 2.20000000e+00]\n",
      " [ 2.30000000e+00]\n",
      " [ 2.40000000e+00]\n",
      " [ 2.50000000e+00]\n",
      " [ 2.60000000e+00]\n",
      " [ 2.70000000e+00]\n",
      " [ 2.80000000e+00]\n",
      " [ 2.90000000e+00]\n",
      " [ 3.00000000e+00]\n",
      " [ 3.10000000e+00]\n",
      " [ 3.20000000e+00]\n",
      " [ 3.30000000e+00]\n",
      " [ 3.40000000e+00]\n",
      " [ 3.50000000e+00]\n",
      " [ 3.60000000e+00]\n",
      " [ 3.70000000e+00]\n",
      " [ 3.80000000e+00]\n",
      " [ 3.90000000e+00]\n",
      " [ 4.00000000e+00]\n",
      " [ 4.10000000e+00]\n",
      " [ 4.20000000e+00]\n",
      " [ 4.30000000e+00]\n",
      " [ 4.40000000e+00]\n",
      " [ 4.50000000e+00]\n",
      " [ 4.60000000e+00]\n",
      " [ 4.70000000e+00]\n",
      " [ 4.80000000e+00]\n",
      " [ 4.90000000e+00]]\n"
     ]
    }
   ],
   "source": [
    "# Reshaping data: transpose (1,n) to (n,1) dimension\n",
    "x1_new = np.reshape(x1,(n,1))\n",
    "x2_new = np.reshape(x2,(n,1))\n",
    "x3_new = np.reshape(x3,(n,1))\n",
    "\n",
    "print(x1_new)"
   ]
  },
  {
   "cell_type": "code",
   "execution_count": 120,
   "metadata": {
    "colab": {
     "base_uri": "https://localhost:8080/",
     "height": 283
    },
    "colab_type": "code",
    "executionInfo": {
     "elapsed": 506,
     "status": "ok",
     "timestamp": 1592329165191,
     "user": {
      "displayName": "Towards AI Co.",
      "photoUrl": "https://lh3.googleusercontent.com/a-/AOh14GhLbx5D2CftHxCgQKz-ZkqP05DaA5ltUq3OgBSm=s64",
      "userId": "17819054307358915746"
     },
     "user_tz": 240
    },
    "id": "KPl85hmJAroZ",
    "outputId": "0762f4d9-0593-4a40-92c0-17384032ce31"
   },
   "outputs": [
    {
     "name": "stdout",
     "output_type": "stream",
     "text": [
      "(100, 4)\n",
      "(4, 100)\n",
      "[[ 1.00000000e+02 -5.00000000e+00  8.33500000e+02 -1.25000000e+02]\n",
      " [-5.00000000e+00  8.33500000e+02 -1.25000000e+02  1.25083330e+04]\n",
      " [ 8.33500000e+02 -1.25000000e+02  1.25083330e+04 -3.12500000e+03]\n",
      " [-1.25000000e+02  1.25083330e+04 -3.12500000e+03  2.23526744e+05]]\n",
      "Coefficients: -1.6218523685405373 -0.08049544416454069 1.3873596740968472 1.03212079879021\n"
     ]
    }
   ],
   "source": [
    "# First column of matrix X:\n",
    "x_bias = np.ones((n,1))   # Replicate 20 ones as a column vector (n,1)\n",
    "#print(x_bias)\n",
    "\n",
    "# Form the complete x matrix:\n",
    "x_new = np.append(x_bias,x1_new,axis=1)   # Append column vector (n,1) to another column vector (n,1)\n",
    "x_new = np.append(x_new,x2_new,axis=1)\n",
    "x_new = np.append(x_new,x3_new,axis=1)\n",
    "\n",
    "print(x_new.shape)   \n",
    "# (20,4)\n",
    "\n",
    "# Find transpose of matrix\n",
    "x_new_transpose = np.transpose(x_new)\n",
    "print(x_new_transpose.shape)\n",
    "# (4,20)\n",
    "\n",
    "# Find dot product of original and transposed matrix\n",
    "# Using numpy.ndarray.dot form of dot\n",
    "x_new_transpose_dot_x_new = x_new_transpose.dot(x_new)   # (4,20) * (20,4)   \n",
    "print(x_new_transpose_dot_x_new)    # (4,4)\n",
    "\n",
    "# Find inverse of matrix\n",
    "temp_1 = np.linalg.inv(x_new_transpose_dot_x_new)# Find the dot product of transposed x and y\n",
    "temp_2 = x_new_transpose.dot(y)\n",
    "\n",
    "# Find coefficients\n",
    "theta = temp_1.dot(temp_2)\n",
    "theta\n",
    "\n",
    "# Store coefficient values in different variables:\n",
    "beta_0 = theta[0]\n",
    "beta_1 = theta[1]\n",
    "beta_2 = theta[2]\n",
    "beta_3 = theta[3]\n",
    "\n",
    "print(\"Coefficients:\", beta_0, beta_1, beta_2, beta_3)"
   ]
  },
  {
   "cell_type": "code",
   "execution_count": 121,
   "metadata": {
    "colab": {
     "base_uri": "https://localhost:8080/",
     "height": 283
    },
    "colab_type": "code",
    "executionInfo": {
     "elapsed": 506,
     "status": "ok",
     "timestamp": 1592329165191,
     "user": {
      "displayName": "Towards AI Co.",
      "photoUrl": "https://lh3.googleusercontent.com/a-/AOh14GhLbx5D2CftHxCgQKz-ZkqP05DaA5ltUq3OgBSm=s64",
      "userId": "17819054307358915746"
     },
     "user_tz": 240
    },
    "id": "KPl85hmJAroZ",
    "outputId": "0762f4d9-0593-4a40-92c0-17384032ce31"
   },
   "outputs": [
    {
     "data": {
      "text/plain": [
       "[<matplotlib.lines.Line2D at 0x7fc078606550>]"
      ]
     },
     "execution_count": 121,
     "metadata": {},
     "output_type": "execute_result"
    },
    {
     "data": {
      "image/png": "[encoded data removed]",
      "text/plain": [
       "<Figure size 432x288 with 1 Axes>"
      ]
     },
     "metadata": {
      "needs_background": "light"
     },
     "output_type": "display_data"
    }
   ],
   "source": [
    "# Plot the polynomial curve\n",
    "plt.scatter(x,y)\n",
    "plt.plot(x,beta_0 + beta_1*x1 + beta_2*x2 + beta_3*x3,c=\"red\")"
   ]
  },
  {
   "cell_type": "code",
   "execution_count": 122,
   "metadata": {
    "colab": {
     "base_uri": "https://localhost:8080/",
     "height": 283
    },
    "colab_type": "code",
    "executionInfo": {
     "elapsed": 506,
     "status": "ok",
     "timestamp": 1592329165191,
     "user": {
      "displayName": "Towards AI Co.",
      "photoUrl": "https://lh3.googleusercontent.com/a-/AOh14GhLbx5D2CftHxCgQKz-ZkqP05DaA5ltUq3OgBSm=s64",
      "userId": "17819054307358915746"
     },
     "user_tz": 240
    },
    "id": "KPl85hmJAroZ",
    "outputId": "0762f4d9-0593-4a40-92c0-17384032ce31"
   },
   "outputs": [
    {
     "name": "stdout",
     "output_type": "stream",
     "text": [
      "[-95.55048314 -89.34489877 -83.41501073 -77.75462627 -72.35755269\n",
      " -67.21759726 -62.32856725 -57.68426993 -53.27851259 -49.1051025\n",
      " -45.15784693 -41.43055316 -37.91702846 -34.61108011 -31.50651538\n",
      " -28.59714155 -25.8767659  -23.3391957  -20.97823822 -18.78770074\n",
      " -16.76139054 -14.89311488 -13.17668106 -11.60589633 -10.17456798\n",
      "  -8.87650328  -7.7055095   -6.65539393  -5.71996383  -4.89302649\n",
      "  -4.16838917  -3.53985916  -3.00124372  -2.54635014  -2.16898568\n",
      "  -1.86295763  -1.62207326  -1.44013984  -1.31096465  -1.22835496\n",
      "  -1.18611805  -1.1780612   -1.19799167  -1.23971675  -1.29704371\n",
      "  -1.36377983  -1.43373237  -1.50070863  -1.55851586  -1.60096135\n",
      "  -1.62185237  -1.6149962   -1.5742001   -1.49327137  -1.36601727\n",
      "  -1.18624507  -0.94776206  -0.64437551  -0.26989268   0.18187913\n",
      "   0.71713266   1.34206063   2.06285577   2.8857108    3.81681844\n",
      "   4.86237143   6.02856248   7.32158432   8.74762967  10.31289127\n",
      "  12.02356183  13.88583408  15.90590074  18.08995454  20.44418821\n",
      "  22.97479447  25.68796603  28.58989564  31.68677601  34.98479986\n",
      "  38.49015993  42.20904894  46.14765961  50.31218466  54.70881683\n",
      "  59.34374883  64.2231734   69.35328325  74.74027111  80.39032971\n",
      "  86.30965176  92.50443001  98.98085716 105.74512595 112.80342909\n",
      " 120.16195932 127.82690936 135.80447194 144.10083977 152.72220559]\n",
      "(100,)\n"
     ]
    }
   ],
   "source": [
    "# Define rediction function, calc y-hat using coefficients\n",
    "def prediction(x1,x2,x3,beta_0,beta_1,beta_2,beta_3):\n",
    " y_hat = beta_0 + beta_1*x1 + beta_2*x2 + beta_3*x3\n",
    " return y_hat\n",
    " \n",
    "# Make predictions\n",
    "y_hat = prediction(x1,x2,x3,beta_0,beta_1,beta_2,beta_3)\n",
    "print(y_hat)\n",
    "print(y_hat.shape)\n",
    "# (20,)"
   ]
  },
  {
   "cell_type": "code",
   "execution_count": 123,
   "metadata": {
    "colab": {
     "base_uri": "https://localhost:8080/",
     "height": 283
    },
    "colab_type": "code",
    "executionInfo": {
     "elapsed": 506,
     "status": "ok",
     "timestamp": 1592329165191,
     "user": {
      "displayName": "Towards AI Co.",
      "photoUrl": "https://lh3.googleusercontent.com/a-/AOh14GhLbx5D2CftHxCgQKz-ZkqP05DaA5ltUq3OgBSm=s64",
      "userId": "17819054307358915746"
     },
     "user_tz": 240
    },
    "id": "KPl85hmJAroZ",
    "outputId": "0762f4d9-0593-4a40-92c0-17384032ce31"
   },
   "outputs": [],
   "source": [
    "# Define function err to calculate Mean Square Error (MSE) to find accuracy of model:\n",
    "def err(y_hat,y):\n",
    " var = (y - y_hat)\n",
    " var = var*var\n",
    " n = len(var)\n",
    " MSE = var.sum()\n",
    " MSE = MSE/n\n",
    " \n",
    " return MSE"
   ]
  },
  {
   "cell_type": "code",
   "execution_count": 125,
   "metadata": {
    "colab": {
     "base_uri": "https://localhost:8080/",
     "height": 283
    },
    "colab_type": "code",
    "executionInfo": {
     "elapsed": 506,
     "status": "ok",
     "timestamp": 1592329165191,
     "user": {
      "displayName": "Towards AI Co.",
      "photoUrl": "https://lh3.googleusercontent.com/a-/AOh14GhLbx5D2CftHxCgQKz-ZkqP05DaA5ltUq3OgBSm=s64",
      "userId": "17819054307358915746"
     },
     "user_tz": 240
    },
    "id": "KPl85hmJAroZ",
    "outputId": "0762f4d9-0593-4a40-92c0-17384032ce31"
   },
   "outputs": [
    {
     "name": "stdout",
     "output_type": "stream",
     "text": [
      "(100,)\n",
      "(100,)\n",
      "[-95.55048314 -89.34489877 -83.41501073 -77.75462627 -72.35755269\n",
      " -67.21759726 -62.32856725 -57.68426993 -53.27851259 -49.1051025\n",
      " -45.15784693 -41.43055316 -37.91702846 -34.61108011 -31.50651538\n",
      " -28.59714155 -25.8767659  -23.3391957  -20.97823822 -18.78770074\n",
      " -16.76139054 -14.89311488 -13.17668106 -11.60589633 -10.17456798\n",
      "  -8.87650328  -7.7055095   -6.65539393  -5.71996383  -4.89302649\n",
      "  -4.16838917  -3.53985916  -3.00124372  -2.54635014  -2.16898568\n",
      "  -1.86295763  -1.62207326  -1.44013984  -1.31096465  -1.22835496\n",
      "  -1.18611805  -1.1780612   -1.19799167  -1.23971675  -1.29704371\n",
      "  -1.36377983  -1.43373237  -1.50070863  -1.55851586  -1.60096135\n",
      "  -1.62185237  -1.6149962   -1.5742001   -1.49327137  -1.36601727\n",
      "  -1.18624507  -0.94776206  -0.64437551  -0.26989268   0.18187913\n",
      "   0.71713266   1.34206063   2.06285577   2.8857108    3.81681844\n",
      "   4.86237143   6.02856248   7.32158432   8.74762967  10.31289127\n",
      "  12.02356183  13.88583408  15.90590074  18.08995454  20.44418821\n",
      "  22.97479447  25.68796603  28.58989564  31.68677601  34.98479986\n",
      "  38.49015993  42.20904894  46.14765961  50.31218466  54.70881683\n",
      "  59.34374883  64.2231734   69.35328325  74.74027111  80.39032971\n",
      "  86.30965176  92.50443001  98.98085716 105.74512595 112.80342909\n",
      " 120.16195932 127.82690936 135.80447194 144.10083977 152.72220559]\n",
      "[-6.40985222e+01 -7.06553080e+01 -1.06443064e+02 -9.12174060e+01\n",
      " -5.80329025e+01 -6.20566906e+01 -5.25677424e+01 -7.37917712e+01\n",
      " -3.58705848e+01 -4.83671983e+01 -6.75476891e+01 -6.30473677e+01\n",
      " -5.59277733e+01 -6.55113462e+01 -3.13122623e+01 -4.06952532e+01\n",
      " -1.24508273e+01 -1.42607241e+01  2.01301854e+01 -2.98986826e+01\n",
      " -1.13769472e+01 -2.27205634e+01 -2.61974061e+01 -4.25638878e+01\n",
      " -1.11593051e+01 -2.09109247e+01  8.69725358e+00 -5.05987214e+00\n",
      "  2.83704387e+00 -1.34711670e+01  2.61631276e+01  1.27949395e+01\n",
      "  1.31124113e+01 -2.99711848e+01 -2.56898188e+01 -2.57326277e+01\n",
      "  2.04781766e+01  2.00680071e+01  2.45178573e+00  2.28474309e+01\n",
      " -5.60835960e+00 -1.42729377e+01 -6.07301351e-02  1.31421930e+01\n",
      " -5.57983151e+00 -1.01127112e+00  1.53214997e+00 -1.10568452e+01\n",
      "  3.50358373e+01  3.83140940e+01  1.49803699e+01 -1.08634057e+01\n",
      " -3.65025114e+01  2.85410739e+01 -2.21600685e+01  3.51313549e+01\n",
      " -1.76037144e+01  1.06785492e+01 -1.62503728e+01  6.10834323e+00\n",
      " -3.59204204e+01 -2.04437202e+01 -1.04947812e+01 -7.50733985e+00\n",
      " -1.04126723e+01  1.89608221e+01 -7.41415203e+00 -2.36133241e+01\n",
      "  2.32259176e+01 -1.65602983e+01  1.39329168e+01 -1.00075766e+01\n",
      "  2.34183859e+01  3.45746683e+01  2.61489863e+01  5.74981770e+01\n",
      "  3.09861486e+01  5.61996661e+01  1.81610488e+01  6.11450555e+01\n",
      "  3.08031548e+01  2.89298077e+01  4.59779224e+01  6.38691991e+01\n",
      "  6.13376475e+01  5.79007785e+01  2.09925253e+01  8.71075036e+01\n",
      "  4.87408095e+01  7.53268904e+01  1.17624010e+02  7.53894275e+01\n",
      "  9.08021007e+01  1.27079400e+02  1.23995831e+02  1.31730836e+02\n",
      "  1.25047474e+02  1.39142397e+02  1.31173542e+02  1.47250206e+02]\n"
     ]
    },
    {
     "data": {
      "text/plain": [
       "363.99789163948816"
      ]
     },
     "execution_count": 125,
     "metadata": {},
     "output_type": "execute_result"
    }
   ],
   "source": [
    "# Calculate the error for the prediction\n",
    "\n",
    "print(y_hat.shape)\n",
    "# (100,)\n",
    "print(y.shape)\n",
    "# (100,)\n",
    "\n",
    "print(y_hat)\n",
    "print(y)\n",
    "\n",
    "error = err(y_hat,y)\n",
    "error"
   ]
  },
  {
   "cell_type": "markdown",
   "metadata": {
    "colab_type": "text",
    "id": "UF__r1KUCp30"
   },
   "source": [
    "# Exponential Regression"
   ]
  },
  {
   "cell_type": "markdown",
   "metadata": {},
   "source": [
    "An exponential regression is the process of finding the equation of the exponential function that fits best for a set of data. As a result, we get an equation of the form y=ab^x where a≠0."
   ]
  },
  {
   "cell_type": "code",
   "execution_count": 1,
   "metadata": {
    "colab": {
     "base_uri": "https://localhost:8080/",
     "height": 313
    },
    "colab_type": "code",
    "executionInfo": {
     "elapsed": 576,
     "status": "ok",
     "timestamp": 1592249449315,
     "user": {
      "displayName": "Towards AI Co.",
      "photoUrl": "https://lh3.googleusercontent.com/a-/AOh14GhLbx5D2CftHxCgQKz-ZkqP05DaA5ltUq3OgBSm=s64",
      "userId": "17819054307358915746"
     },
     "user_tz": 240
    },
    "id": "q-w2fW-uDKHK",
    "outputId": "c0fe061f-0608-4245-a76a-49577dc73d88"
   },
   "outputs": [],
   "source": [
    "# Import required libraries:\n",
    "import numpy as np\n",
    "import matplotlib.pyplot as plt\n",
    "\n",
    "# Use non-linear least squares to fit a function, f, to data.\n",
    "from scipy.optimize import curve_fit"
   ]
  },
  {
   "cell_type": "code",
   "execution_count": 2,
   "metadata": {
    "colab": {
     "base_uri": "https://localhost:8080/",
     "height": 313
    },
    "colab_type": "code",
    "executionInfo": {
     "elapsed": 576,
     "status": "ok",
     "timestamp": 1592249449315,
     "user": {
      "displayName": "Towards AI Co.",
      "photoUrl": "https://lh3.googleusercontent.com/a-/AOh14GhLbx5D2CftHxCgQKz-ZkqP05DaA5ltUq3OgBSm=s64",
      "userId": "17819054307358915746"
     },
     "user_tz": 240
    },
    "id": "q-w2fW-uDKHK",
    "outputId": "c0fe061f-0608-4245-a76a-49577dc73d88"
   },
   "outputs": [
    {
     "name": "stdout",
     "output_type": "stream",
     "text": [
      "(8,)\n",
      "[0 1 2 3 4 5 6 7]\n",
      "(8,)\n",
      "[251 209 157 129 103  81  66  49]\n"
     ]
    }
   ],
   "source": [
    "# Generate simulated datapoints\n",
    "day = np.arange(0,8)\n",
    "print(day.shape)\n",
    "# (8,)\n",
    "print(day)\n",
    "\n",
    "weight = np.array([251,209,157,129,103,81,66,49])\n",
    "print(weight.shape)\n",
    "# (8,)\n",
    "print(weight)\n"
   ]
  },
  {
   "cell_type": "code",
   "execution_count": 6,
   "metadata": {
    "colab": {
     "base_uri": "https://localhost:8080/",
     "height": 313
    },
    "colab_type": "code",
    "executionInfo": {
     "elapsed": 576,
     "status": "ok",
     "timestamp": 1592249449315,
     "user": {
      "displayName": "Towards AI Co.",
      "photoUrl": "https://lh3.googleusercontent.com/a-/AOh14GhLbx5D2CftHxCgQKz-ZkqP05DaA5ltUq3OgBSm=s64",
      "userId": "17819054307358915746"
     },
     "user_tz": 240
    },
    "id": "q-w2fW-uDKHK",
    "outputId": "c0fe061f-0608-4245-a76a-49577dc73d88"
   },
   "outputs": [
    {
     "name": "stdout",
     "output_type": "stream",
     "text": [
      "(2,)\n",
      "[254.0485724   0.7963651]\n",
      "(2, 2)\n",
      "[[ 8.94298129e+00 -8.06359265e-03]\n",
      " [-8.06359265e-03  1.66434385e-05]]\n",
      "(8,)\n",
      "[254.0485724  202.31541639 161.11693652 128.30790503 102.17993743\n",
      "  81.37253594  64.80224761  51.6062483 ]\n"
     ]
    }
   ],
   "source": [
    "# Exponential Function\n",
    "def expo_func(x, a, b):\n",
    " return a * b ** x\n",
    "\n",
    "# Curve_fit to find the optimal parameter values. It returns two variables, called popt, pcov.\n",
    "# popt:\n",
    "# Optimal values for the parameters so that the sum of the squared residuals of \n",
    "# f(xdata, *popt) - ydata is minimized.\n",
    "\n",
    "# pcov:\n",
    "# The estimated covariance of popt\n",
    "popt, pcov = curve_fit(expo_func, day, weight)\n",
    "print(popt.shape)\n",
    "# (2,)\n",
    "print(popt)\n",
    "print(pcov.shape)\n",
    "# (2,2)\n",
    "print(pcov)\n",
    "\n",
    "weight_pred = expo_func(day,popt[0],popt[1])\n",
    "print(weight_pred.shape)\n",
    "# (8,)\n",
    "print(weight_pred)"
   ]
  },
  {
   "cell_type": "code",
   "execution_count": null,
   "metadata": {
    "colab": {
     "base_uri": "https://localhost:8080/",
     "height": 313
    },
    "colab_type": "code",
    "executionInfo": {
     "elapsed": 576,
     "status": "ok",
     "timestamp": 1592249449315,
     "user": {
      "displayName": "Towards AI Co.",
      "photoUrl": "https://lh3.googleusercontent.com/a-/AOh14GhLbx5D2CftHxCgQKz-ZkqP05DaA5ltUq3OgBSm=s64",
      "userId": "17819054307358915746"
     },
     "user_tz": 240
    },
    "id": "q-w2fW-uDKHK",
    "outputId": "c0fe061f-0608-4245-a76a-49577dc73d88"
   },
   "outputs": [
    {
     "data": {
      "image/png": "[encoded data removed]",
      "text/plain": [
       "<Figure size 432x288 with 1 Axes>"
      ]
     },
     "metadata": {
      "needs_background": "light",
      "tags": []
     },
     "output_type": "display_data"
    },
    {
     "name": "stdout",
     "output_type": "stream",
     "text": [
      "The equation of regression line is y=254.0486*0.7964^x\n"
     ]
    }
   ],
   "source": [
    "# Scatter plot Day vs. predicted Weight\n",
    "plt.plot(day, weight_pred, 'r-')\n",
    "plt.scatter(day,weight,label='Day vs Weight')\n",
    "plt.title(\"Day vs Weight a*b^x\")\n",
    "plt.xlabel('Day')\n",
    "plt.ylabel('Weight')\n",
    "plt.legend()\n",
    "plt.show()\n",
    "\n",
    "# Display equation with coefficients\n",
    "a=popt[0].round(4)   # Coefficient\n",
    "b=popt[1].round(4)   # Coefficient\n",
    "print(f'The equation of regression line is y={a}*{b}^x')"
   ]
  },
  {
   "cell_type": "markdown",
   "metadata": {
    "colab_type": "text",
    "id": "85GQobzgDz7X"
   },
   "source": [
    "# Sinusoidal Regression\n",
    "\n",
    "Some real-life examples of sinusoidal regression:\n",
    "\n",
    "- Generation of music waves\n",
    "- Sound travels in waves\n",
    "- Trigonometric functions in constructions\n",
    "- Used in space flights \n",
    "- GPS location calculations\n",
    "- Architecture\n",
    "- Electrical current\n",
    "- Radio broadcasting\n",
    "- Low and high tides of the ocean\n",
    "- Buildings\n",
    "\n",
    "Sometimes we have data that shows patterns like a sine wave. Therefore, in such case scenarios, we use a sinusoidal regression. "
   ]
  },
  {
   "cell_type": "code",
   "execution_count": 7,
   "metadata": {
    "colab": {
     "base_uri": "https://localhost:8080/",
     "height": 556
    },
    "colab_type": "code",
    "executionInfo": {
     "elapsed": 571,
     "status": "ok",
     "timestamp": 1592329183679,
     "user": {
      "displayName": "Towards AI Co.",
      "photoUrl": "https://lh3.googleusercontent.com/a-/AOh14GhLbx5D2CftHxCgQKz-ZkqP05DaA5ltUq3OgBSm=s64",
      "userId": "17819054307358915746"
     },
     "user_tz": 240
    },
    "id": "vPU_9qhzD2Z4",
    "outputId": "9351ac5c-76cd-436b-f40b-d42f3902678b"
   },
   "outputs": [],
   "source": [
    "# Import required libraries:\n",
    "import numpy as np\n",
    "import matplotlib.pyplot as plt\n",
    "from scipy.optimize import curve_fit\n",
    "from sklearn.metrics import r2_score"
   ]
  },
  {
   "cell_type": "markdown",
   "metadata": {},
   "source": [
    "Generate the simulated data set"
   ]
  },
  {
   "cell_type": "code",
   "execution_count": 8,
   "metadata": {
    "colab": {
     "base_uri": "https://localhost:8080/",
     "height": 556
    },
    "colab_type": "code",
    "executionInfo": {
     "elapsed": 571,
     "status": "ok",
     "timestamp": 1592329183679,
     "user": {
      "displayName": "Towards AI Co.",
      "photoUrl": "https://lh3.googleusercontent.com/a-/AOh14GhLbx5D2CftHxCgQKz-ZkqP05DaA5ltUq3OgBSm=s64",
      "userId": "17819054307358915746"
     },
     "user_tz": 240
    },
    "id": "vPU_9qhzD2Z4",
    "outputId": "9351ac5c-76cd-436b-f40b-d42f3902678b"
   },
   "outputs": [
    {
     "data": {
      "text/plain": [
       "<matplotlib.collections.PathCollection at 0x7ff418be17b8>"
      ]
     },
     "execution_count": 8,
     "metadata": {},
     "output_type": "execute_result"
    },
    {
     "data": {
      "image/png": "[encoded data removed]",
      "text/plain": [
       "<Figure size 432x288 with 1 Axes>"
      ]
     },
     "metadata": {
      "needs_background": "light"
     },
     "output_type": "display_data"
    }
   ],
   "source": [
    "# Y = A*sin(B(X + C)) + D\n",
    "# A = Amplitude\n",
    "# Period = 2*pi/B\n",
    "# Period = Length of One Cycle\n",
    "# C = Phase Shift (In Radian)\n",
    "# D = Vertical Shift\n",
    "\n",
    "X = np.linspace(0,1,100) #(Start,End,Points)\n",
    "\n",
    "# Here…\n",
    "# A = 1\n",
    "# B= 2*pi\n",
    "# B = 2*pi/Period\n",
    "# Period = 1\n",
    "# C = 0\n",
    "# D = 0\n",
    "\n",
    "Y = 1*np.sin(2*np.pi*X)\n",
    "\n",
    "# Adding some Noise :\n",
    "Noise = 0.4*np.random.normal(size=100)\n",
    "\n",
    "Y_data = Y + Noise\n",
    "\n",
    "plt.scatter(X,Y_data,c=\"r\")"
   ]
  },
  {
   "cell_type": "markdown",
   "metadata": {},
   "source": [
    "Here we have created a function called “calc_sine” to calculate the value of output based on optimal coefficients. Here we will use the scikit-learn library to find the optimal parameters."
   ]
  },
  {
   "cell_type": "code",
   "execution_count": 9,
   "metadata": {
    "colab": {
     "base_uri": "https://localhost:8080/",
     "height": 556
    },
    "colab_type": "code",
    "executionInfo": {
     "elapsed": 571,
     "status": "ok",
     "timestamp": 1592329183679,
     "user": {
      "displayName": "Towards AI Co.",
      "photoUrl": "https://lh3.googleusercontent.com/a-/AOh14GhLbx5D2CftHxCgQKz-ZkqP05DaA5ltUq3OgBSm=s64",
      "userId": "17819054307358915746"
     },
     "user_tz": 240
    },
    "id": "vPU_9qhzD2Z4",
    "outputId": "9351ac5c-76cd-436b-f40b-d42f3902678b"
   },
   "outputs": [
    {
     "data": {
      "image/png": "[encoded data removed]",
      "text/plain": [
       "<Figure size 432x288 with 1 Axes>"
      ]
     },
     "metadata": {
      "needs_background": "light"
     },
     "output_type": "display_data"
    },
    {
     "name": "stdout",
     "output_type": "stream",
     "text": [
      "0.8175739174484498\n"
     ]
    }
   ],
   "source": [
    "# Calculate the value:\n",
    "def calc_sine(x,a,b,c,d):\n",
    " return a * np.sin(b* ( x + np.radians(c))) + d\n",
    "\n",
    "# Finding optimal parameters :\n",
    "popt,pcov = curve_fit(calc_sine,X,Y_data)\n",
    "\n",
    "# Plot the main data :\n",
    "plt.scatter(X,Y_data)# Plot the best fit curve :\n",
    "plt.plot(X,calc_sine(X,*popt),c=\"r\")\n",
    "plt.show()\n",
    "\n",
    "# Check the accuracy :\n",
    "Accuracy =r2_score(Y_data,calc_sine(X,*popt))\n",
    "print (Accuracy)"
   ]
  },
  {
   "cell_type": "markdown",
   "metadata": {},
   "source": [
    "Why does a sinusoidal regression perform better than linear regression?\n",
    "\n",
    "If we check the accuracy of the model after fitting our data with a straight line, we can see that the accuracy in prediction is less than that of sine wave regression. That is why we use sinusoidal regression."
   ]
  },
  {
   "cell_type": "code",
   "execution_count": 10,
   "metadata": {
    "colab": {
     "base_uri": "https://localhost:8080/",
     "height": 556
    },
    "colab_type": "code",
    "executionInfo": {
     "elapsed": 571,
     "status": "ok",
     "timestamp": 1592329183679,
     "user": {
      "displayName": "Towards AI Co.",
      "photoUrl": "https://lh3.googleusercontent.com/a-/AOh14GhLbx5D2CftHxCgQKz-ZkqP05DaA5ltUq3OgBSm=s64",
      "userId": "17819054307358915746"
     },
     "user_tz": 240
    },
    "id": "vPU_9qhzD2Z4",
    "outputId": "9351ac5c-76cd-436b-f40b-d42f3902678b"
   },
   "outputs": [
    {
     "data": {
      "image/png": "[encoded data removed]",
      "text/plain": [
       "<Figure size 432x288 with 1 Axes>"
      ]
     },
     "metadata": {
      "needs_background": "light"
     },
     "output_type": "display_data"
    },
    {
     "name": "stdout",
     "output_type": "stream",
     "text": [
      "Accuracy of Linear Model :  0.4359650108209695\n"
     ]
    }
   ],
   "source": [
    "# Function to calculate the value :\n",
    "def calc_line(X,m,b):\n",
    " return b + X*m\n",
    "\n",
    "# It returns optimized parametes for our function :\n",
    "# popt stores optimal parameters\n",
    "# pcov stores the covarience between each parameters.\n",
    "popt,pcov = curve_fit(calc_line,X,Y_data)\n",
    "\n",
    "# Plot the main data :\n",
    "plt.scatter(X,Y_data)\n",
    "\n",
    "# Plot the best fit line :\n",
    "plt.plot(X,calc_line(X,*popt),c=\"r\")\n",
    "plt.show()\n",
    "\n",
    "# Check the accuracy of model :\n",
    "Accuracy =r2_score(Y_data,calc_line(X,*popt))\n",
    "print (\"Accuracy of Linear Model : \",Accuracy)"
   ]
  },
  {
   "cell_type": "markdown",
   "metadata": {
    "colab_type": "text",
    "id": "bS2qLvX-EiNX"
   },
   "source": [
    "# Logarithmic Regression\n",
    "\n",
    "Some real-life examples of logarithmic growth:\n",
    "\n",
    "- The magnitude of earthquakes\n",
    "- The intensity of sound\n",
    "- The acidity of a solution\n",
    "- The pH level of solutions\n",
    "- Yields of chemical reactions\n",
    "- Production of goods\n",
    "- Growth of infants\n",
    "- A COVID-19 graph\n",
    "\n",
    "Sometimes we have data that grows exponentially in the statement, but after a certain point, it goes flat. In such a case, we can use a logarithmic regression.\n"
   ]
  },
  {
   "cell_type": "code",
   "execution_count": 11,
   "metadata": {
    "colab": {
     "base_uri": "https://localhost:8080/",
     "height": 337
    },
    "colab_type": "code",
    "executionInfo": {
     "elapsed": 610,
     "status": "ok",
     "timestamp": 1592242896801,
     "user": {
      "displayName": "Towards AI Co.",
      "photoUrl": "https://lh3.googleusercontent.com/a-/AOh14GhLbx5D2CftHxCgQKz-ZkqP05DaA5ltUq3OgBSm=s64",
      "userId": "17819054307358915746"
     },
     "user_tz": 240
    },
    "id": "-FNHHye-Ek9P",
    "outputId": "d7411a82-656f-4bf6-b79d-3f5029efdc63"
   },
   "outputs": [],
   "source": [
    "# Import required libraries\n",
    "import numpy as np\n",
    "import matplotlib.pyplot as plt\n",
    "from sklearn.metrics import r2_score   # Calculate R-squared"
   ]
  },
  {
   "cell_type": "markdown",
   "metadata": {
    "colab": {
     "base_uri": "https://localhost:8080/",
     "height": 337
    },
    "colab_type": "code",
    "executionInfo": {
     "elapsed": 610,
     "status": "ok",
     "timestamp": 1592242896801,
     "user": {
      "displayName": "Towards AI Co.",
      "photoUrl": "https://lh3.googleusercontent.com/a-/AOh14GhLbx5D2CftHxCgQKz-ZkqP05DaA5ltUq3OgBSm=s64",
      "userId": "17819054307358915746"
     },
     "user_tz": 240
    },
    "id": "-FNHHye-Ek9P",
    "outputId": "d7411a82-656f-4bf6-b79d-3f5029efdc63"
   },
   "source": [
    "Generate simulated data set\n",
    "\n",
    "Y = a + b*ln(X)"
   ]
  },
  {
   "cell_type": "code",
   "execution_count": 40,
   "metadata": {
    "colab": {
     "base_uri": "https://localhost:8080/",
     "height": 337
    },
    "colab_type": "code",
    "executionInfo": {
     "elapsed": 610,
     "status": "ok",
     "timestamp": 1592242896801,
     "user": {
      "displayName": "Towards AI Co.",
      "photoUrl": "https://lh3.googleusercontent.com/a-/AOh14GhLbx5D2CftHxCgQKz-ZkqP05DaA5ltUq3OgBSm=s64",
      "userId": "17819054307358915746"
     },
     "user_tz": 240
    },
    "id": "-FNHHye-Ek9P",
    "outputId": "d7411a82-656f-4bf6-b79d-3f5029efdc63"
   },
   "outputs": [
    {
     "name": "stdout",
     "output_type": "stream",
     "text": [
      "<class 'numpy.ndarray'>\n",
      "[ 1.   1.5  2.   2.5  3.   3.5  4.   4.5  5.   5.5  6.   6.5  7.   7.5\n",
      "  8.   8.5  9.   9.5 10.  10.5 11.  11.5 12.  12.5 13.  13.5 14.  14.5\n",
      " 15.  15.5 16.  16.5 17.  17.5 18.  18.5 19.  19.5 20.  20.5 21.  21.5\n",
      " 22.  22.5 23.  23.5 24.  24.5 25.  25.5 26.  26.5 27.  27.5 28.  28.5\n",
      " 29.  29.5 30.  30.5 31.  31.5 32.  32.5 33.  33.5 34.  34.5 35.  35.5\n",
      " 36.  36.5 37.  37.5 38.  38.5 39.  39.5 40.  40.5 41.  41.5 42.  42.5\n",
      " 43.  43.5 44.  44.5 45.  45.5 46.  46.5 47.  47.5 48.  48.5 49.  49.5] 98\n",
      "[10.         10.81093022 11.38629436 11.83258146 12.19722458 12.50552594\n",
      " 12.77258872 13.00815479 13.21887582 13.40949618 13.58351894 13.74360435\n",
      " 13.8918203  14.02980604 14.15888308 14.28013233 14.39444915 14.5025836\n",
      " 14.60517019 14.70275051 14.79579055 14.88469407 14.9698133  15.05145729\n",
      " 15.12989871 15.20537937 15.27811466 15.3482973  15.4161004  15.48168005\n",
      " 15.54517744 15.60672076 15.66642669 15.72440176 15.78074352 15.83554146\n",
      " 15.88887796 15.94082893 15.99146455 16.04084977 16.08904488 16.13610587\n",
      " 16.18208491 16.22703062 16.27098843 16.31400084 16.35610766 16.39734624\n",
      " 16.43775165 16.4773569  16.51619308 16.55428947 16.59167373 16.62837201\n",
      " 16.66440902 16.69980817 16.73459166 16.76878053 16.80239476 16.83545337\n",
      " 16.86797441 16.89997509 16.93147181 16.96248018 16.99301512 17.02309088\n",
      " 17.05272105 17.08191865 17.11069612 17.13906539 17.16703788 17.19462452\n",
      " 17.22183583 17.24868187 17.27517232 17.30131648 17.32712329 17.35260134\n",
      " 17.37775891 17.40260395 17.42714413 17.45138685 17.47533924 17.49900815\n",
      " 17.52240023 17.54552188 17.56837927 17.59097838 17.61332498 17.63542465\n",
      " 17.65728279 17.67890463 17.7002952  17.72145942 17.74240202 17.7631276\n",
      " 17.7836406  17.80394534] 98\n"
     ]
    },
    {
     "data": {
      "text/plain": [
       "<matplotlib.collections.PathCollection at 0x7ff41988f8d0>"
      ]
     },
     "execution_count": 40,
     "metadata": {},
     "output_type": "execute_result"
    },
    {
     "data": {
      "image/png": "[encoded data removed]",
      "text/plain": [
       "<Figure size 432x288 with 1 Axes>"
      ]
     },
     "metadata": {
      "needs_background": "light"
     },
     "output_type": "display_data"
    }
   ],
   "source": [
    "X = np.arange(1,50,0.5)\n",
    "print(type(X))\n",
    "print(X, len(X))\n",
    "# 98\n",
    "Y = 10 + 2*np.log(X)\n",
    "print(Y, len(Y))\n",
    "# 98\n",
    "\n",
    "# Add some noise to calculate error\n",
    "Y_noise = np.random.rand(len(Y))\n",
    "Y = Y +Y_noise\n",
    "plt.scatter(X,Y)"
   ]
  },
  {
   "cell_type": "markdown",
   "metadata": {},
   "source": [
    "First column of matrix X should be 1"
   ]
  },
  {
   "cell_type": "code",
   "execution_count": 38,
   "metadata": {
    "colab": {
     "base_uri": "https://localhost:8080/",
     "height": 337
    },
    "colab_type": "code",
    "executionInfo": {
     "elapsed": 610,
     "status": "ok",
     "timestamp": 1592242896801,
     "user": {
      "displayName": "Towards AI Co.",
      "photoUrl": "https://lh3.googleusercontent.com/a-/AOh14GhLbx5D2CftHxCgQKz-ZkqP05DaA5ltUq3OgBSm=s64",
      "userId": "17819054307358915746"
     },
     "user_tz": 240
    },
    "id": "-FNHHye-Ek9P",
    "outputId": "d7411a82-656f-4bf6-b79d-3f5029efdc63"
   },
   "outputs": [
    {
     "name": "stdout",
     "output_type": "stream",
     "text": [
      "98\n",
      "[[1.]\n",
      " [1.]\n",
      " [1.]\n",
      " [1.]\n",
      " [1.]\n",
      " [1.]\n",
      " [1.]\n",
      " [1.]\n",
      " [1.]\n",
      " [1.]\n",
      " [1.]\n",
      " [1.]\n",
      " [1.]\n",
      " [1.]\n",
      " [1.]\n",
      " [1.]\n",
      " [1.]\n",
      " [1.]\n",
      " [1.]\n",
      " [1.]\n",
      " [1.]\n",
      " [1.]\n",
      " [1.]\n",
      " [1.]\n",
      " [1.]\n",
      " [1.]\n",
      " [1.]\n",
      " [1.]\n",
      " [1.]\n",
      " [1.]\n",
      " [1.]\n",
      " [1.]\n",
      " [1.]\n",
      " [1.]\n",
      " [1.]\n",
      " [1.]\n",
      " [1.]\n",
      " [1.]\n",
      " [1.]\n",
      " [1.]\n",
      " [1.]\n",
      " [1.]\n",
      " [1.]\n",
      " [1.]\n",
      " [1.]\n",
      " [1.]\n",
      " [1.]\n",
      " [1.]\n",
      " [1.]\n",
      " [1.]\n",
      " [1.]\n",
      " [1.]\n",
      " [1.]\n",
      " [1.]\n",
      " [1.]\n",
      " [1.]\n",
      " [1.]\n",
      " [1.]\n",
      " [1.]\n",
      " [1.]\n",
      " [1.]\n",
      " [1.]\n",
      " [1.]\n",
      " [1.]\n",
      " [1.]\n",
      " [1.]\n",
      " [1.]\n",
      " [1.]\n",
      " [1.]\n",
      " [1.]\n",
      " [1.]\n",
      " [1.]\n",
      " [1.]\n",
      " [1.]\n",
      " [1.]\n",
      " [1.]\n",
      " [1.]\n",
      " [1.]\n",
      " [1.]\n",
      " [1.]\n",
      " [1.]\n",
      " [1.]\n",
      " [1.]\n",
      " [1.]\n",
      " [1.]\n",
      " [1.]\n",
      " [1.]\n",
      " [1.]\n",
      " [1.]\n",
      " [1.]\n",
      " [1.]\n",
      " [1.]\n",
      " [1.]\n",
      " [1.]\n",
      " [1.]\n",
      " [1.]\n",
      " [1.]\n",
      " [1.]]\n",
      "(98, 1)\n"
     ]
    }
   ],
   "source": [
    "n = len(X)\n",
    "print(n)\n",
    "x_bias = np.ones((n,1))    # 98 rows, 1 column\n",
    "print(x_bias)\n",
    "print (x_bias.shape)"
   ]
  },
  {
   "cell_type": "markdown",
   "metadata": {},
   "source": [
    "Reshape X"
   ]
  },
  {
   "cell_type": "code",
   "execution_count": 41,
   "metadata": {
    "colab": {
     "base_uri": "https://localhost:8080/",
     "height": 337
    },
    "colab_type": "code",
    "executionInfo": {
     "elapsed": 610,
     "status": "ok",
     "timestamp": 1592242896801,
     "user": {
      "displayName": "Towards AI Co.",
      "photoUrl": "https://lh3.googleusercontent.com/a-/AOh14GhLbx5D2CftHxCgQKz-ZkqP05DaA5ltUq3OgBSm=s64",
      "userId": "17819054307358915746"
     },
     "user_tz": 240
    },
    "id": "-FNHHye-Ek9P",
    "outputId": "d7411a82-656f-4bf6-b79d-3f5029efdc63"
   },
   "outputs": [
    {
     "name": "stdout",
     "output_type": "stream",
     "text": [
      "(98,)\n",
      "<class 'numpy.ndarray'>\n",
      "(98, 1)\n"
     ]
    }
   ],
   "source": [
    "print(X.shape)\n",
    "\n",
    "# X is numpy.ndarray\n",
    "X = np.reshape(X,(n,1))\n",
    "print(type(X))         # Also numpy.ndarray\n",
    "print (X.shape)"
   ]
  },
  {
   "cell_type": "markdown",
   "metadata": {},
   "source": [
    "Using the Normal formula\n",
    "\n",
    "Y = a + b*ln(X)"
   ]
  },
  {
   "cell_type": "code",
   "execution_count": 18,
   "metadata": {
    "colab": {
     "base_uri": "https://localhost:8080/",
     "height": 337
    },
    "colab_type": "code",
    "executionInfo": {
     "elapsed": 610,
     "status": "ok",
     "timestamp": 1592242896801,
     "user": {
      "displayName": "Towards AI Co.",
      "photoUrl": "https://lh3.googleusercontent.com/a-/AOh14GhLbx5D2CftHxCgQKz-ZkqP05DaA5ltUq3OgBSm=s64",
      "userId": "17819054307358915746"
     },
     "user_tz": 240
    },
    "id": "-FNHHye-Ek9P",
    "outputId": "d7411a82-656f-4bf6-b79d-3f5029efdc63"
   },
   "outputs": [
    {
     "name": "stdout",
     "output_type": "stream",
     "text": [
      "(98, 1)\n"
     ]
    }
   ],
   "source": [
    "X_log = np.log(X)           # Calculate natural logarithm\n",
    "print (X_log.shape)"
   ]
  },
  {
   "cell_type": "markdown",
   "metadata": {},
   "source": [
    "Form the main matrxix X\n",
    "\n",
    "Append X_log to X_bias"
   ]
  },
  {
   "cell_type": "code",
   "execution_count": 20,
   "metadata": {
    "colab": {
     "base_uri": "https://localhost:8080/",
     "height": 337
    },
    "colab_type": "code",
    "executionInfo": {
     "elapsed": 610,
     "status": "ok",
     "timestamp": 1592242896801,
     "user": {
      "displayName": "Towards AI Co.",
      "photoUrl": "https://lh3.googleusercontent.com/a-/AOh14GhLbx5D2CftHxCgQKz-ZkqP05DaA5ltUq3OgBSm=s64",
      "userId": "17819054307358915746"
     },
     "user_tz": 240
    },
    "id": "-FNHHye-Ek9P",
    "outputId": "d7411a82-656f-4bf6-b79d-3f5029efdc63"
   },
   "outputs": [
    {
     "name": "stdout",
     "output_type": "stream",
     "text": [
      "(98, 2)\n"
     ]
    }
   ],
   "source": [
    "x_new = np.append(x_bias,X_log,axis=1)\n",
    "print (x_new.shape)"
   ]
  },
  {
   "cell_type": "markdown",
   "metadata": {},
   "source": [
    "Find the transpose matrix"
   ]
  },
  {
   "cell_type": "code",
   "execution_count": 21,
   "metadata": {
    "colab": {
     "base_uri": "https://localhost:8080/",
     "height": 337
    },
    "colab_type": "code",
    "executionInfo": {
     "elapsed": 610,
     "status": "ok",
     "timestamp": 1592242896801,
     "user": {
      "displayName": "Towards AI Co.",
      "photoUrl": "https://lh3.googleusercontent.com/a-/AOh14GhLbx5D2CftHxCgQKz-ZkqP05DaA5ltUq3OgBSm=s64",
      "userId": "17819054307358915746"
     },
     "user_tz": 240
    },
    "id": "-FNHHye-Ek9P",
    "outputId": "d7411a82-656f-4bf6-b79d-3f5029efdc63"
   },
   "outputs": [
    {
     "name": "stdout",
     "output_type": "stream",
     "text": [
      "(2, 98)\n"
     ]
    }
   ],
   "source": [
    "x_new_transpose = np.transpose(x_new)\n",
    "print (x_new_transpose.shape)"
   ]
  },
  {
   "cell_type": "markdown",
   "metadata": {},
   "source": [
    "Perform matrix multiplication: (2,98) x (98,2) = (2,2)"
   ]
  },
  {
   "cell_type": "code",
   "execution_count": 42,
   "metadata": {
    "colab": {
     "base_uri": "https://localhost:8080/",
     "height": 337
    },
    "colab_type": "code",
    "executionInfo": {
     "elapsed": 610,
     "status": "ok",
     "timestamp": 1592242896801,
     "user": {
      "displayName": "Towards AI Co.",
      "photoUrl": "https://lh3.googleusercontent.com/a-/AOh14GhLbx5D2CftHxCgQKz-ZkqP05DaA5ltUq3OgBSm=s64",
      "userId": "17819054307358915746"
     },
     "user_tz": 240
    },
    "id": "-FNHHye-Ek9P",
    "outputId": "d7411a82-656f-4bf6-b79d-3f5029efdc63"
   },
   "outputs": [
    {
     "name": "stdout",
     "output_type": "stream",
     "text": [
      "(2, 2)\n",
      "[[ 98.         291.20578167]\n",
      " [291.20578167 936.34140116]]\n"
     ]
    }
   ],
   "source": [
    "x_new_transpose_dot_x_new = x_new_transpose.dot(x_new)\n",
    "print (x_new_transpose_dot_x_new.shape)\n",
    "print(x_new_transpose_dot_x_new)"
   ]
  },
  {
   "cell_type": "markdown",
   "metadata": {},
   "source": [
    "Find inverse"
   ]
  },
  {
   "cell_type": "code",
   "execution_count": 44,
   "metadata": {
    "colab": {
     "base_uri": "https://localhost:8080/",
     "height": 337
    },
    "colab_type": "code",
    "executionInfo": {
     "elapsed": 610,
     "status": "ok",
     "timestamp": 1592242896801,
     "user": {
      "displayName": "Towards AI Co.",
      "photoUrl": "https://lh3.googleusercontent.com/a-/AOh14GhLbx5D2CftHxCgQKz-ZkqP05DaA5ltUq3OgBSm=s64",
      "userId": "17819054307358915746"
     },
     "user_tz": 240
    },
    "id": "-FNHHye-Ek9P",
    "outputId": "d7411a82-656f-4bf6-b79d-3f5029efdc63"
   },
   "outputs": [
    {
     "name": "stdout",
     "output_type": "stream",
     "text": [
      "(2, 2)\n",
      "[[ 0.13451925 -0.041836  ]\n",
      " [-0.041836    0.01407914]]\n",
      "[[1. 0.]\n",
      " [0. 1.]]\n"
     ]
    }
   ],
   "source": [
    "temp_1 = np.linalg.inv(x_new_transpose_dot_x_new)\n",
    "print (temp_1.shape)\n",
    "print(temp_1)\n",
    "print(temp_1.dot(x_new_transpose_dot_x_new))   # Identity matrix"
   ]
  },
  {
   "cell_type": "markdown",
   "metadata": {},
   "source": [
    "Perform matrix multiplication"
   ]
  },
  {
   "cell_type": "code",
   "execution_count": 45,
   "metadata": {
    "colab": {
     "base_uri": "https://localhost:8080/",
     "height": 337
    },
    "colab_type": "code",
    "executionInfo": {
     "elapsed": 610,
     "status": "ok",
     "timestamp": 1592242896801,
     "user": {
      "displayName": "Towards AI Co.",
      "photoUrl": "https://lh3.googleusercontent.com/a-/AOh14GhLbx5D2CftHxCgQKz-ZkqP05DaA5ltUq3OgBSm=s64",
      "userId": "17819054307358915746"
     },
     "user_tz": 240
    },
    "id": "-FNHHye-Ek9P",
    "outputId": "d7411a82-656f-4bf6-b79d-3f5029efdc63"
   },
   "outputs": [
    {
     "name": "stdout",
     "output_type": "stream",
     "text": [
      "(2,)\n",
      "[1614.76734565 4936.77686917]\n"
     ]
    }
   ],
   "source": [
    "temp_2 = x_new_transpose.dot(Y)\n",
    "print (temp_2.shape)\n",
    "print(temp_2)"
   ]
  },
  {
   "cell_type": "markdown",
   "metadata": {},
   "source": [
    "Find the coefficient values"
   ]
  },
  {
   "cell_type": "code",
   "execution_count": 46,
   "metadata": {
    "colab": {
     "base_uri": "https://localhost:8080/",
     "height": 337
    },
    "colab_type": "code",
    "executionInfo": {
     "elapsed": 610,
     "status": "ok",
     "timestamp": 1592242896801,
     "user": {
      "displayName": "Towards AI Co.",
      "photoUrl": "https://lh3.googleusercontent.com/a-/AOh14GhLbx5D2CftHxCgQKz-ZkqP05DaA5ltUq3OgBSm=s64",
      "userId": "17819054307358915746"
     },
     "user_tz": 240
    },
    "id": "-FNHHye-Ek9P",
    "outputId": "d7411a82-656f-4bf6-b79d-3f5029efdc63"
   },
   "outputs": [
    {
     "name": "stdout",
     "output_type": "stream",
     "text": [
      "(2,)\n",
      "[10.68227127  1.95018368]\n"
     ]
    }
   ],
   "source": [
    "theta = temp_1.dot(temp_2)\n",
    "print (theta.shape)\n",
    "print(theta)"
   ]
  },
  {
   "cell_type": "markdown",
   "metadata": {},
   "source": [
    "Scatter plot of the data with regression curve"
   ]
  },
  {
   "cell_type": "code",
   "execution_count": 26,
   "metadata": {
    "colab": {
     "base_uri": "https://localhost:8080/",
     "height": 337
    },
    "colab_type": "code",
    "executionInfo": {
     "elapsed": 610,
     "status": "ok",
     "timestamp": 1592242896801,
     "user": {
      "displayName": "Towards AI Co.",
      "photoUrl": "https://lh3.googleusercontent.com/a-/AOh14GhLbx5D2CftHxCgQKz-ZkqP05DaA5ltUq3OgBSm=s64",
      "userId": "17819054307358915746"
     },
     "user_tz": 240
    },
    "id": "-FNHHye-Ek9P",
    "outputId": "d7411a82-656f-4bf6-b79d-3f5029efdc63"
   },
   "outputs": [
    {
     "data": {
      "text/plain": [
       "[<matplotlib.lines.Line2D at 0x7ff418e32c88>]"
      ]
     },
     "execution_count": 26,
     "metadata": {},
     "output_type": "execute_result"
    },
    {
     "data": {
      "image/png": "[encoded data removed]",
      "text/plain": [
       "<Figure size 432x288 with 1 Axes>"
      ]
     },
     "metadata": {
      "needs_background": "light"
     },
     "output_type": "display_data"
    }
   ],
   "source": [
    "a = theta[0]\n",
    "b = theta[1]\n",
    "\n",
    "Y_plot = a + b*np.log(X)\n",
    "plt.scatter(X,Y)\n",
    "plt.plot(X,Y_plot,c=\"r\")"
   ]
  },
  {
   "cell_type": "markdown",
   "metadata": {},
   "source": [
    "Check the accuracy by computing R-squared"
   ]
  },
  {
   "cell_type": "code",
   "execution_count": 27,
   "metadata": {
    "colab": {
     "base_uri": "https://localhost:8080/",
     "height": 337
    },
    "colab_type": "code",
    "executionInfo": {
     "elapsed": 610,
     "status": "ok",
     "timestamp": 1592242896801,
     "user": {
      "displayName": "Towards AI Co.",
      "photoUrl": "https://lh3.googleusercontent.com/a-/AOh14GhLbx5D2CftHxCgQKz-ZkqP05DaA5ltUq3OgBSm=s64",
      "userId": "17819054307358915746"
     },
     "user_tz": 240
    },
    "id": "-FNHHye-Ek9P",
    "outputId": "d7411a82-656f-4bf6-b79d-3f5029efdc63"
   },
   "outputs": [
    {
     "name": "stdout",
     "output_type": "stream",
     "text": [
      "0.9768848340645401\n"
     ]
    }
   ],
   "source": [
    "Accuracy = r2_score(Y,Y_plot)\n",
    "print (Accuracy)"
   ]
  },
  {
   "cell_type": "code",
   "execution_count": null,
   "metadata": {},
   "outputs": [],
   "source": []
  }
 ],
 "metadata": {
  "colab": {
   "name": "Copy of machine-learning-algorithms-for-beginners.ipynb",
   "provenance": [
    {
     "file_id": "1CdiInssgUbBJ9GB2D4n_RSsuAjhsNTkk",
     "timestamp": 1594509959863
    }
   ]
  },
  "kernelspec": {
   "display_name": "Python 3",
   "language": "python",
   "name": "python3"
  },
  "language_info": {
   "codemirror_mode": {
    "name": "ipython",
    "version": 3
   },
   "file_extension": ".py",
   "mimetype": "text/x-python",
   "name": "python",
   "nbconvert_exporter": "python",
   "pygments_lexer": "ipython3",
   "version": "3.7.3"
  }
 },
 "nbformat": 4,
 "nbformat_minor": 1
}
